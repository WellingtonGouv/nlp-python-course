{
  "nbformat": 4,
  "nbformat_minor": 0,
  "metadata": {
    "colab": {
      "provenance": []
    },
    "kernelspec": {
      "name": "python3",
      "display_name": "Python 3"
    },
    "language_info": {
      "name": "python"
    }
  },
  "cells": [
    {
      "cell_type": "markdown",
      "source": [
        "Exercise for Spacy POS tutorial,\n",
        "\n",
        "1) You are parsing a news story from cnbc.com. News story is stores in [news_story.txt](https://github.com/codebasics/nlp-tutorials/blob/main/7_pos/news_story.txt) which is available in this same folder on github. You need to,\n",
        "   1) Extract all NOUN tokens from this story. You will have to read the file in python first to collect all the text and then extract NOUNs in a python list\n",
        "   2) Extract all numbers (NUM POS type) in a python list\n",
        "   3) Print a count of all POS tags in this story\n"
      ],
      "metadata": {
        "id": "B7Mekrp4toc3"
      }
    },
    {
      "cell_type": "code",
      "source": [
        "import spacy"
      ],
      "metadata": {
        "id": "9s3gp2q9tnAm"
      },
      "execution_count": null,
      "outputs": []
    },
    {
      "cell_type": "code",
      "source": [
        "with open(\"news_story.txt\",\"r\") as f:\n",
        "    news_text = f.read()"
      ],
      "metadata": {
        "id": "XXWpkWmztxgZ"
      },
      "execution_count": null,
      "outputs": []
    },
    {
      "cell_type": "markdown",
      "source": [
        "Extract all NOUN tokens and all NUM tokens"
      ],
      "metadata": {
        "id": "90m9PMoyvW7n"
      }
    },
    {
      "cell_type": "code",
      "execution_count": null,
      "metadata": {
        "colab": {
          "base_uri": "https://localhost:8080/"
        },
        "id": "m698x0O3tjKn",
        "outputId": "2c6ab3c5-fc91-4695-d5d9-e15ae91d4ee6"
      },
      "outputs": [
        {
          "output_type": "stream",
          "name": "stdout",
          "text": [
            "Noun list:  [Inflation, climb, consumers, brink, expansion, consumer, price, index, measure, prices, goods, services, %, year, estimate, %, gain, ease, peak, level, summer, food, energy, prices, core, %, expectations, %, gain, hopes, inflation, month, month, gains, expectations, %, headline, %, estimate, %, increase, core, outlook, %, gain, price, gains, workers, ground, wages, inflation, %, month, increase, %, earnings, year, earnings, %, earnings, %, Inflation, threat, recovery, pandemic, economy, stage, year, growth, level, prices, pump, grocery, stores, problem, inflation, areas, housing, auto, sales, host, areas, officials, problem, interest, rate, hikes, year, pledges, inflation, bank, %, goal, data, job, Credits]\n",
            "Number list:  [8.3, 8.1, 1982, 6.2, 6, 0.3, 0.2, 0.6, 0.4, 0.1, 0.3, 2.6, 5.5, 2021, 1984, one, two, two, 2]\n"
          ]
        }
      ],
      "source": [
        "noun_list = []\n",
        "number_list = []\n",
        "\n",
        "nlp = spacy.load(\"en_core_web_sm\")\n",
        "doc = nlp(news_text)\n",
        "\n",
        "for token in doc:\n",
        "  if token.pos_ == \"NOUN\":\n",
        "    noun_list.append(token)\n",
        "  elif token.pos_ == \"NUM\":\n",
        "    number_list.append(token)\n",
        "\n",
        "print(\"Noun list: \",noun_list)\n",
        "print(\"Number list: \", number_list)"
      ]
    },
    {
      "cell_type": "markdown",
      "source": [
        "Print COUNT of all POS tags"
      ],
      "metadata": {
        "id": "Dl19AyNvveKy"
      }
    },
    {
      "cell_type": "code",
      "source": [
        "count = doc.count_by(spacy.attrs.POS)\n",
        "\n",
        "for k, v in count.items():\n",
        "  print(doc.vocab[k].text,\" | \", v)"
      ],
      "metadata": {
        "colab": {
          "base_uri": "https://localhost:8080/"
        },
        "id": "LIeECSGavWKG",
        "outputId": "c14996ce-836c-46d7-e2b0-436f00504440"
      },
      "execution_count": null,
      "outputs": [
        {
          "output_type": "stream",
          "name": "stdout",
          "text": [
            "NOUN  |  96\n",
            "VERB  |  27\n",
            "ADV  |  15\n",
            "ADP  |  39\n",
            "PROPN  |  16\n",
            "PUNCT  |  32\n",
            "DET  |  34\n",
            "PRON  |  4\n",
            "AUX  |  13\n",
            "CCONJ  |  10\n",
            "ADJ  |  23\n",
            "SPACE  |  7\n",
            "NUM  |  19\n",
            "PART  |  4\n",
            "SCONJ  |  8\n",
            "X  |  1\n"
          ]
        }
      ]
    }
  ]
}