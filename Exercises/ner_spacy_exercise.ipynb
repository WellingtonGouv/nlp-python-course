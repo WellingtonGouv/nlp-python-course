{
  "nbformat": 4,
  "nbformat_minor": 0,
  "metadata": {
    "colab": {
      "provenance": []
    },
    "kernelspec": {
      "name": "python3",
      "display_name": "Python 3"
    },
    "language_info": {
      "name": "python"
    }
  },
  "cells": [
    {
      "cell_type": "markdown",
      "source": [
        "# Named Entity Recognition (NER): Exercises\n"
      ],
      "metadata": {
        "id": "8QXqmGbA1qTp"
      }
    },
    {
      "cell_type": "code",
      "execution_count": null,
      "metadata": {
        "id": "Zix-uHB31fIJ"
      },
      "outputs": [],
      "source": [
        "import spacy\n",
        "\n",
        "nlp = spacy.load(\"en_core_web_sm\")"
      ]
    },
    {
      "cell_type": "markdown",
      "source": [
        "## Exercise: 1\n",
        "*    Extract all the Geographical (cities, Countries, states) names from a given text"
      ],
      "metadata": {
        "id": "bc4OcKGf14I7"
      }
    },
    {
      "cell_type": "code",
      "source": [
        "location_list = []\n",
        "\n",
        "text = \"\"\"Kiran want to know the famous foods in each state of India. So, he opened Google and search for this question. Google showed that\n",
        "in Delhi it is Chaat, in Gujarat it is Dal Dhokli, in Tamilnadu it is Pongal, in Andhrapradesh it is Biryani, in Assam it is Papaya Khar,\n",
        "in Bihar it is Litti Chowkha and so on for all other states\"\"\"\n",
        "\n",
        "doc = nlp(text)\n",
        "\n",
        "for token in doc.ents:\n",
        "    if token.label_ == \"GPE\":\n",
        "        location_list.append(token.text)\n",
        "\n",
        "print(location_list)\n",
        "print(\"Count: \", len(location_list))"
      ],
      "metadata": {
        "colab": {
          "base_uri": "https://localhost:8080/"
        },
        "id": "B6Wo8yP02Cfx",
        "outputId": "62f4ec33-7baf-4771-e97e-77424f3a0196"
      },
      "execution_count": null,
      "outputs": [
        {
          "output_type": "stream",
          "name": "stdout",
          "text": [
            "['Kiran', 'India', 'Delhi', 'Gujarat', 'Tamilnadu', 'Andhrapradesh', 'Assam', 'Bihar']\n",
            "Count:  8\n"
          ]
        }
      ]
    },
    {
      "cell_type": "markdown",
      "source": [
        "## Exercise: 2\n",
        "*    Extract all the birth dates of cricketers in the given Text"
      ],
      "metadata": {
        "id": "GM06ixPL2lmU"
      }
    },
    {
      "cell_type": "code",
      "source": [
        "text = \"\"\"Sachin Tendulkar was born on 24 April 1973, Virat Kholi was born on 5 November 1988, Dhoni was born on 7 July 1981\n",
        "and finally Ricky ponting was born on 19 December 1974.\"\"\"\n",
        "\n",
        "doc = nlp(text)\n",
        "\n",
        "birth_date_list = []\n",
        "\n",
        "for token in doc.ents:\n",
        "    if token.label_ == \"DATE\":\n",
        "       birth_date_list.append(token.text)\n",
        "\n",
        "print(birth_date_list)\n",
        "print(\"Count: \", len(birth_date_list))"
      ],
      "metadata": {
        "colab": {
          "base_uri": "https://localhost:8080/"
        },
        "id": "oUH-GRsw2rsD",
        "outputId": "6ce43fb7-bc33-405f-831f-67bfff8f0c5f"
      },
      "execution_count": null,
      "outputs": [
        {
          "output_type": "stream",
          "name": "stdout",
          "text": [
            "['24 April 1973', '5 November 1988', '7 July 1981', '19 December 1974']\n",
            "Count:  4\n"
          ]
        }
      ]
    }
  ]
}