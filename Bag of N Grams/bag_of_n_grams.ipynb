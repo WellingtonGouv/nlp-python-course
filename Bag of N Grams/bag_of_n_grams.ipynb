{
  "nbformat": 4,
  "nbformat_minor": 0,
  "metadata": {
    "colab": {
      "provenance": []
    },
    "kernelspec": {
      "name": "python3",
      "display_name": "Python 3"
    },
    "language_info": {
      "name": "python"
    }
  },
  "cells": [
    {
      "cell_type": "markdown",
      "source": [
        "# Bag of N Grams Tutorial - Codebasics\n",
        "\n",
        "Meaning of a sentence is determined by **order** of words.\n",
        "\n",
        "Bag Of Words is a Bag Of n-grams where n=1\n",
        "\n",
        "### Limitations:\n",
        "* As n increased, dimensionality, sparsity increases\n",
        "* Doesn't adress out of vocabulary (OOV) problem\n",
        "\n",
        "Generating n-grams using CountVectorizer"
      ],
      "metadata": {
        "id": "1gJLSSSiti8Y"
      }
    },
    {
      "cell_type": "code",
      "execution_count": 1,
      "metadata": {
        "colab": {
          "base_uri": "https://localhost:8080/"
        },
        "id": "zK2sfswztYm_",
        "outputId": "453737c4-95da-4a6f-d0dd-cebb14a94dd6"
      },
      "outputs": [
        {
          "output_type": "execute_result",
          "data": {
            "text/plain": [
              "{'thor': 5, 'odinson': 4, 'is': 1, 'looking': 3, 'for': 0, 'job': 2}"
            ]
          },
          "metadata": {},
          "execution_count": 1
        }
      ],
      "source": [
        "from sklearn.feature_extraction.text import CountVectorizer\n",
        "\n",
        "v = CountVectorizer()\n",
        "v.fit([\"Thor Odinson is looking for a job\"])\n",
        "v.vocabulary_"
      ]
    },
    {
      "cell_type": "code",
      "source": [
        "v = CountVectorizer(ngram_range=(1,2))\n",
        "v.fit([\"Thor Odinson is looking for a job\"])\n",
        "v.vocabulary_"
      ],
      "metadata": {
        "colab": {
          "base_uri": "https://localhost:8080/"
        },
        "id": "LvY-vIp2uuSg",
        "outputId": "9984647d-5e64-46bb-c864-84d21bf35335"
      },
      "execution_count": 2,
      "outputs": [
        {
          "output_type": "execute_result",
          "data": {
            "text/plain": [
              "{'thor': 9,\n",
              " 'odinson': 7,\n",
              " 'is': 2,\n",
              " 'looking': 5,\n",
              " 'for': 0,\n",
              " 'job': 4,\n",
              " 'thor odinson': 10,\n",
              " 'odinson is': 8,\n",
              " 'is looking': 3,\n",
              " 'looking for': 6,\n",
              " 'for job': 1}"
            ]
          },
          "metadata": {},
          "execution_count": 2
        }
      ]
    },
    {
      "cell_type": "markdown",
      "source": [
        "We will not take a simple collection of text documents, preprocess them to remove stop words, lemmatize etc and then generate bag of 1 grams and 2 grams from it\n"
      ],
      "metadata": {
        "id": "4y82dX5OvHEY"
      }
    },
    {
      "cell_type": "code",
      "source": [
        "corpus = [\n",
        "    \"Thor ate pizza\",\n",
        "    \"Loki is tall\",\n",
        "    \"Loki is eating pizza\"\n",
        "]"
      ],
      "metadata": {
        "id": "urkXXv2BvKSf"
      },
      "execution_count": 3,
      "outputs": []
    },
    {
      "cell_type": "code",
      "source": [
        "import spacy\n",
        "\n",
        "nlp = spacy.load(\"en_core_web_sm\")\n",
        "\n",
        "def preprocess(text):\n",
        "  doc = nlp(text)\n",
        "  filtered_tokens = []\n",
        "  for token in doc:\n",
        "    if token.is_stop or token.is_punct:\n",
        "      continue\n",
        "    filtered_tokens.append(token.lemma_)\n",
        "  return \" \".join(filtered_tokens)"
      ],
      "metadata": {
        "id": "8OhEkMZcvTTx"
      },
      "execution_count": 4,
      "outputs": []
    },
    {
      "cell_type": "code",
      "source": [
        "preprocess(\"Thor ate pizza\")"
      ],
      "metadata": {
        "colab": {
          "base_uri": "https://localhost:8080/",
          "height": 36
        },
        "id": "JwZ4CRV6wAsg",
        "outputId": "4bf358e6-52a6-4eb6-87da-2933ca250ab7"
      },
      "execution_count": 5,
      "outputs": [
        {
          "output_type": "execute_result",
          "data": {
            "text/plain": [
              "'thor eat pizza'"
            ],
            "application/vnd.google.colaboratory.intrinsic+json": {
              "type": "string"
            }
          },
          "metadata": {},
          "execution_count": 5
        }
      ]
    },
    {
      "cell_type": "code",
      "source": [
        "preprocess(\"Loki is eating pizza\")"
      ],
      "metadata": {
        "colab": {
          "base_uri": "https://localhost:8080/",
          "height": 36
        },
        "id": "IkcP-9rcwIhv",
        "outputId": "7141cd12-1362-481a-c092-064f052887e9"
      },
      "execution_count": 6,
      "outputs": [
        {
          "output_type": "execute_result",
          "data": {
            "text/plain": [
              "'Loki eat pizza'"
            ],
            "application/vnd.google.colaboratory.intrinsic+json": {
              "type": "string"
            }
          },
          "metadata": {},
          "execution_count": 6
        }
      ]
    },
    {
      "cell_type": "code",
      "source": [
        "corpus_processed = [\n",
        "    preprocess(text) for text in corpus\n",
        "]\n",
        "corpus_processed"
      ],
      "metadata": {
        "colab": {
          "base_uri": "https://localhost:8080/"
        },
        "id": "aHzSgkvlwK_4",
        "outputId": "79114499-af1f-498c-9101-670a83cb7e80"
      },
      "execution_count": 7,
      "outputs": [
        {
          "output_type": "execute_result",
          "data": {
            "text/plain": [
              "['thor eat pizza', 'Loki tall', 'Loki eat pizza']"
            ]
          },
          "metadata": {},
          "execution_count": 7
        }
      ]
    },
    {
      "cell_type": "code",
      "source": [
        "v = CountVectorizer(ngram_range=(1,2))\n",
        "v.fit(corpus_processed)\n",
        "v.vocabulary_"
      ],
      "metadata": {
        "colab": {
          "base_uri": "https://localhost:8080/"
        },
        "id": "ZcQSBnZmwTqw",
        "outputId": "deb4ab03-07dd-4f36-9286-273894a83fab"
      },
      "execution_count": 8,
      "outputs": [
        {
          "output_type": "execute_result",
          "data": {
            "text/plain": [
              "{'thor': 7,\n",
              " 'eat': 0,\n",
              " 'pizza': 5,\n",
              " 'thor eat': 8,\n",
              " 'eat pizza': 1,\n",
              " 'loki': 2,\n",
              " 'tall': 6,\n",
              " 'loki tall': 4,\n",
              " 'loki eat': 3}"
            ]
          },
          "metadata": {},
          "execution_count": 8
        }
      ]
    },
    {
      "cell_type": "markdown",
      "source": [
        "Now generate bag of n gram vector for few sample documents"
      ],
      "metadata": {
        "id": "xX1i3R37waK3"
      }
    },
    {
      "cell_type": "code",
      "source": [
        "v.transform([\"Thor eat pizza\"]).toarray()"
      ],
      "metadata": {
        "colab": {
          "base_uri": "https://localhost:8080/"
        },
        "id": "-gpRGQUjwbGn",
        "outputId": "2ac8fb5c-550a-401f-f0c8-66f4de98f498"
      },
      "execution_count": 10,
      "outputs": [
        {
          "output_type": "execute_result",
          "data": {
            "text/plain": [
              "array([[1, 1, 0, 0, 0, 1, 0, 1, 1]])"
            ]
          },
          "metadata": {},
          "execution_count": 10
        }
      ]
    },
    {
      "cell_type": "markdown",
      "source": [
        "Let's take a document that has out of vocabulary (OOV) term and see how bag of ngram generates vector out of it"
      ],
      "metadata": {
        "id": "4_XLlFYFwplA"
      }
    },
    {
      "cell_type": "code",
      "source": [
        "v.transform([\"Hulk eat pizza\"]).toarray()"
      ],
      "metadata": {
        "colab": {
          "base_uri": "https://localhost:8080/"
        },
        "id": "4o31_Rafwdpw",
        "outputId": "88e82273-4faf-4315-89f3-3e355c59e305"
      },
      "execution_count": 11,
      "outputs": [
        {
          "output_type": "execute_result",
          "data": {
            "text/plain": [
              "array([[1, 1, 0, 0, 0, 1, 0, 0, 0]])"
            ]
          },
          "metadata": {},
          "execution_count": 11
        }
      ]
    },
    {
      "cell_type": "markdown",
      "source": [
        "![image.png](data:image/png;base64,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)"
      ],
      "metadata": {
        "id": "FfAWUoz9wlHj"
      }
    },
    {
      "cell_type": "markdown",
      "source": [
        "# News Category Classification Problem\n",
        "Here we want to do a news category classification. We will use bag of n-grams and train a machine learning model that can categorize any news into one of the following categories:\n",
        "\n",
        "* BUSINESS\n",
        "* SPORTS\n",
        "* CRIME\n",
        "* SCIENCE\n",
        "\n",
        "## Dataset\n",
        "Dataset Credits: https://www.kaggle.com/code/hengzheng/news-category-classifier-val-acc-0-65\n",
        "\n",
        "* This data consists of two columns. - Text - Category\n",
        "* Text is a news article\n",
        "* Category can be one of these 4: 'BUSINESS', 'SPORTS', 'CRIME', 'SCIENCE', to keep things simple I trimmed additional categories from the original dataset"
      ],
      "metadata": {
        "id": "LJfYRwNxxkIw"
      }
    },
    {
      "cell_type": "code",
      "source": [
        "import pandas as pd\n",
        "\n",
        "df = pd.read_json('news_dataset.json')\n",
        "print(df.shape)\n",
        "\n",
        "df.head()"
      ],
      "metadata": {
        "colab": {
          "base_uri": "https://localhost:8080/",
          "height": 223
        },
        "id": "JyuK9xRuxkl4",
        "outputId": "478e4216-ddc7-4d6b-ea65-f60f8e0a0258"
      },
      "execution_count": 12,
      "outputs": [
        {
          "output_type": "stream",
          "name": "stdout",
          "text": [
            "(12695, 2)\n"
          ]
        },
        {
          "output_type": "execute_result",
          "data": {
            "text/plain": [
              "                                                text  category\n",
              "0  Watching Schrödinger's Cat Die University of C...   SCIENCE\n",
              "1     WATCH: Freaky Vortex Opens Up In Flooded Lake    SCIENCE\n",
              "2  Entrepreneurs Today Don't Need a Big Budget to...  BUSINESS\n",
              "3  These Roads Could Recharge Your Electric Car A...  BUSINESS\n",
              "4  Civilian 'Guard' Fires Gun While 'Protecting' ...     CRIME"
            ],
            "text/html": [
              "\n",
              "  <div id=\"df-4fa1da27-0f1c-4563-8640-897b87ea2f75\" class=\"colab-df-container\">\n",
              "    <div>\n",
              "<style scoped>\n",
              "    .dataframe tbody tr th:only-of-type {\n",
              "        vertical-align: middle;\n",
              "    }\n",
              "\n",
              "    .dataframe tbody tr th {\n",
              "        vertical-align: top;\n",
              "    }\n",
              "\n",
              "    .dataframe thead th {\n",
              "        text-align: right;\n",
              "    }\n",
              "</style>\n",
              "<table border=\"1\" class=\"dataframe\">\n",
              "  <thead>\n",
              "    <tr style=\"text-align: right;\">\n",
              "      <th></th>\n",
              "      <th>text</th>\n",
              "      <th>category</th>\n",
              "    </tr>\n",
              "  </thead>\n",
              "  <tbody>\n",
              "    <tr>\n",
              "      <th>0</th>\n",
              "      <td>Watching Schrödinger's Cat Die University of C...</td>\n",
              "      <td>SCIENCE</td>\n",
              "    </tr>\n",
              "    <tr>\n",
              "      <th>1</th>\n",
              "      <td>WATCH: Freaky Vortex Opens Up In Flooded Lake</td>\n",
              "      <td>SCIENCE</td>\n",
              "    </tr>\n",
              "    <tr>\n",
              "      <th>2</th>\n",
              "      <td>Entrepreneurs Today Don't Need a Big Budget to...</td>\n",
              "      <td>BUSINESS</td>\n",
              "    </tr>\n",
              "    <tr>\n",
              "      <th>3</th>\n",
              "      <td>These Roads Could Recharge Your Electric Car A...</td>\n",
              "      <td>BUSINESS</td>\n",
              "    </tr>\n",
              "    <tr>\n",
              "      <th>4</th>\n",
              "      <td>Civilian 'Guard' Fires Gun While 'Protecting' ...</td>\n",
              "      <td>CRIME</td>\n",
              "    </tr>\n",
              "  </tbody>\n",
              "</table>\n",
              "</div>\n",
              "    <div class=\"colab-df-buttons\">\n",
              "\n",
              "  <div class=\"colab-df-container\">\n",
              "    <button class=\"colab-df-convert\" onclick=\"convertToInteractive('df-4fa1da27-0f1c-4563-8640-897b87ea2f75')\"\n",
              "            title=\"Convert this dataframe to an interactive table.\"\n",
              "            style=\"display:none;\">\n",
              "\n",
              "  <svg xmlns=\"http://www.w3.org/2000/svg\" height=\"24px\" viewBox=\"0 -960 960 960\">\n",
              "    <path d=\"M120-120v-720h720v720H120Zm60-500h600v-160H180v160Zm220 220h160v-160H400v160Zm0 220h160v-160H400v160ZM180-400h160v-160H180v160Zm440 0h160v-160H620v160ZM180-180h160v-160H180v160Zm440 0h160v-160H620v160Z\"/>\n",
              "  </svg>\n",
              "    </button>\n",
              "\n",
              "  <style>\n",
              "    .colab-df-container {\n",
              "      display:flex;\n",
              "      gap: 12px;\n",
              "    }\n",
              "\n",
              "    .colab-df-convert {\n",
              "      background-color: #E8F0FE;\n",
              "      border: none;\n",
              "      border-radius: 50%;\n",
              "      cursor: pointer;\n",
              "      display: none;\n",
              "      fill: #1967D2;\n",
              "      height: 32px;\n",
              "      padding: 0 0 0 0;\n",
              "      width: 32px;\n",
              "    }\n",
              "\n",
              "    .colab-df-convert:hover {\n",
              "      background-color: #E2EBFA;\n",
              "      box-shadow: 0px 1px 2px rgba(60, 64, 67, 0.3), 0px 1px 3px 1px rgba(60, 64, 67, 0.15);\n",
              "      fill: #174EA6;\n",
              "    }\n",
              "\n",
              "    .colab-df-buttons div {\n",
              "      margin-bottom: 4px;\n",
              "    }\n",
              "\n",
              "    [theme=dark] .colab-df-convert {\n",
              "      background-color: #3B4455;\n",
              "      fill: #D2E3FC;\n",
              "    }\n",
              "\n",
              "    [theme=dark] .colab-df-convert:hover {\n",
              "      background-color: #434B5C;\n",
              "      box-shadow: 0px 1px 3px 1px rgba(0, 0, 0, 0.15);\n",
              "      filter: drop-shadow(0px 1px 2px rgba(0, 0, 0, 0.3));\n",
              "      fill: #FFFFFF;\n",
              "    }\n",
              "  </style>\n",
              "\n",
              "    <script>\n",
              "      const buttonEl =\n",
              "        document.querySelector('#df-4fa1da27-0f1c-4563-8640-897b87ea2f75 button.colab-df-convert');\n",
              "      buttonEl.style.display =\n",
              "        google.colab.kernel.accessAllowed ? 'block' : 'none';\n",
              "\n",
              "      async function convertToInteractive(key) {\n",
              "        const element = document.querySelector('#df-4fa1da27-0f1c-4563-8640-897b87ea2f75');\n",
              "        const dataTable =\n",
              "          await google.colab.kernel.invokeFunction('convertToInteractive',\n",
              "                                                    [key], {});\n",
              "        if (!dataTable) return;\n",
              "\n",
              "        const docLinkHtml = 'Like what you see? Visit the ' +\n",
              "          '<a target=\"_blank\" href=https://colab.research.google.com/notebooks/data_table.ipynb>data table notebook</a>'\n",
              "          + ' to learn more about interactive tables.';\n",
              "        element.innerHTML = '';\n",
              "        dataTable['output_type'] = 'display_data';\n",
              "        await google.colab.output.renderOutput(dataTable, element);\n",
              "        const docLink = document.createElement('div');\n",
              "        docLink.innerHTML = docLinkHtml;\n",
              "        element.appendChild(docLink);\n",
              "      }\n",
              "    </script>\n",
              "  </div>\n",
              "\n",
              "\n",
              "    <div id=\"df-708227e4-70e3-4360-ae61-e1cf8a969533\">\n",
              "      <button class=\"colab-df-quickchart\" onclick=\"quickchart('df-708227e4-70e3-4360-ae61-e1cf8a969533')\"\n",
              "                title=\"Suggest charts\"\n",
              "                style=\"display:none;\">\n",
              "\n",
              "<svg xmlns=\"http://www.w3.org/2000/svg\" height=\"24px\"viewBox=\"0 0 24 24\"\n",
              "     width=\"24px\">\n",
              "    <g>\n",
              "        <path d=\"M19 3H5c-1.1 0-2 .9-2 2v14c0 1.1.9 2 2 2h14c1.1 0 2-.9 2-2V5c0-1.1-.9-2-2-2zM9 17H7v-7h2v7zm4 0h-2V7h2v10zm4 0h-2v-4h2v4z\"/>\n",
              "    </g>\n",
              "</svg>\n",
              "      </button>\n",
              "\n",
              "<style>\n",
              "  .colab-df-quickchart {\n",
              "      --bg-color: #E8F0FE;\n",
              "      --fill-color: #1967D2;\n",
              "      --hover-bg-color: #E2EBFA;\n",
              "      --hover-fill-color: #174EA6;\n",
              "      --disabled-fill-color: #AAA;\n",
              "      --disabled-bg-color: #DDD;\n",
              "  }\n",
              "\n",
              "  [theme=dark] .colab-df-quickchart {\n",
              "      --bg-color: #3B4455;\n",
              "      --fill-color: #D2E3FC;\n",
              "      --hover-bg-color: #434B5C;\n",
              "      --hover-fill-color: #FFFFFF;\n",
              "      --disabled-bg-color: #3B4455;\n",
              "      --disabled-fill-color: #666;\n",
              "  }\n",
              "\n",
              "  .colab-df-quickchart {\n",
              "    background-color: var(--bg-color);\n",
              "    border: none;\n",
              "    border-radius: 50%;\n",
              "    cursor: pointer;\n",
              "    display: none;\n",
              "    fill: var(--fill-color);\n",
              "    height: 32px;\n",
              "    padding: 0;\n",
              "    width: 32px;\n",
              "  }\n",
              "\n",
              "  .colab-df-quickchart:hover {\n",
              "    background-color: var(--hover-bg-color);\n",
              "    box-shadow: 0 1px 2px rgba(60, 64, 67, 0.3), 0 1px 3px 1px rgba(60, 64, 67, 0.15);\n",
              "    fill: var(--button-hover-fill-color);\n",
              "  }\n",
              "\n",
              "  .colab-df-quickchart-complete:disabled,\n",
              "  .colab-df-quickchart-complete:disabled:hover {\n",
              "    background-color: var(--disabled-bg-color);\n",
              "    fill: var(--disabled-fill-color);\n",
              "    box-shadow: none;\n",
              "  }\n",
              "\n",
              "  .colab-df-spinner {\n",
              "    border: 2px solid var(--fill-color);\n",
              "    border-color: transparent;\n",
              "    border-bottom-color: var(--fill-color);\n",
              "    animation:\n",
              "      spin 1s steps(1) infinite;\n",
              "  }\n",
              "\n",
              "  @keyframes spin {\n",
              "    0% {\n",
              "      border-color: transparent;\n",
              "      border-bottom-color: var(--fill-color);\n",
              "      border-left-color: var(--fill-color);\n",
              "    }\n",
              "    20% {\n",
              "      border-color: transparent;\n",
              "      border-left-color: var(--fill-color);\n",
              "      border-top-color: var(--fill-color);\n",
              "    }\n",
              "    30% {\n",
              "      border-color: transparent;\n",
              "      border-left-color: var(--fill-color);\n",
              "      border-top-color: var(--fill-color);\n",
              "      border-right-color: var(--fill-color);\n",
              "    }\n",
              "    40% {\n",
              "      border-color: transparent;\n",
              "      border-right-color: var(--fill-color);\n",
              "      border-top-color: var(--fill-color);\n",
              "    }\n",
              "    60% {\n",
              "      border-color: transparent;\n",
              "      border-right-color: var(--fill-color);\n",
              "    }\n",
              "    80% {\n",
              "      border-color: transparent;\n",
              "      border-right-color: var(--fill-color);\n",
              "      border-bottom-color: var(--fill-color);\n",
              "    }\n",
              "    90% {\n",
              "      border-color: transparent;\n",
              "      border-bottom-color: var(--fill-color);\n",
              "    }\n",
              "  }\n",
              "</style>\n",
              "\n",
              "      <script>\n",
              "        async function quickchart(key) {\n",
              "          const quickchartButtonEl =\n",
              "            document.querySelector('#' + key + ' button');\n",
              "          quickchartButtonEl.disabled = true;  // To prevent multiple clicks.\n",
              "          quickchartButtonEl.classList.add('colab-df-spinner');\n",
              "          try {\n",
              "            const charts = await google.colab.kernel.invokeFunction(\n",
              "                'suggestCharts', [key], {});\n",
              "          } catch (error) {\n",
              "            console.error('Error during call to suggestCharts:', error);\n",
              "          }\n",
              "          quickchartButtonEl.classList.remove('colab-df-spinner');\n",
              "          quickchartButtonEl.classList.add('colab-df-quickchart-complete');\n",
              "        }\n",
              "        (() => {\n",
              "          let quickchartButtonEl =\n",
              "            document.querySelector('#df-708227e4-70e3-4360-ae61-e1cf8a969533 button');\n",
              "          quickchartButtonEl.style.display =\n",
              "            google.colab.kernel.accessAllowed ? 'block' : 'none';\n",
              "        })();\n",
              "      </script>\n",
              "    </div>\n",
              "\n",
              "    </div>\n",
              "  </div>\n"
            ],
            "application/vnd.google.colaboratory.intrinsic+json": {
              "type": "dataframe",
              "variable_name": "df",
              "summary": "{\n  \"name\": \"df\",\n  \"rows\": 12695,\n  \"fields\": [\n    {\n      \"column\": \"text\",\n      \"properties\": {\n        \"dtype\": \"string\",\n        \"num_unique_values\": 12689,\n        \"samples\": [\n          \"Whales Are Mysteriously Dying In Alaska \\\"We do not yet know the cause of these strandings.\\\"\",\n          \"How Police Failed To Stop A Former NFL Star's Rape Spree \",\n          \"Freaky Non-Newtonian Fluid Dances To The Beat \"\n        ],\n        \"semantic_type\": \"\",\n        \"description\": \"\"\n      }\n    },\n    {\n      \"column\": \"category\",\n      \"properties\": {\n        \"dtype\": \"category\",\n        \"num_unique_values\": 4,\n        \"samples\": [\n          \"BUSINESS\",\n          \"SPORTS\",\n          \"SCIENCE\"\n        ],\n        \"semantic_type\": \"\",\n        \"description\": \"\"\n      }\n    }\n  ]\n}"
            }
          },
          "metadata": {},
          "execution_count": 12
        }
      ]
    },
    {
      "cell_type": "code",
      "source": [
        "df.category.value_counts()"
      ],
      "metadata": {
        "colab": {
          "base_uri": "https://localhost:8080/",
          "height": 241
        },
        "id": "6FLRwV5b0cdH",
        "outputId": "edc7c59f-703d-4f37-995a-251a5f6c8244"
      },
      "execution_count": 13,
      "outputs": [
        {
          "output_type": "execute_result",
          "data": {
            "text/plain": [
              "category\n",
              "BUSINESS    4254\n",
              "SPORTS      4167\n",
              "CRIME       2893\n",
              "SCIENCE     1381\n",
              "Name: count, dtype: int64"
            ],
            "text/html": [
              "<div>\n",
              "<style scoped>\n",
              "    .dataframe tbody tr th:only-of-type {\n",
              "        vertical-align: middle;\n",
              "    }\n",
              "\n",
              "    .dataframe tbody tr th {\n",
              "        vertical-align: top;\n",
              "    }\n",
              "\n",
              "    .dataframe thead th {\n",
              "        text-align: right;\n",
              "    }\n",
              "</style>\n",
              "<table border=\"1\" class=\"dataframe\">\n",
              "  <thead>\n",
              "    <tr style=\"text-align: right;\">\n",
              "      <th></th>\n",
              "      <th>count</th>\n",
              "    </tr>\n",
              "    <tr>\n",
              "      <th>category</th>\n",
              "      <th></th>\n",
              "    </tr>\n",
              "  </thead>\n",
              "  <tbody>\n",
              "    <tr>\n",
              "      <th>BUSINESS</th>\n",
              "      <td>4254</td>\n",
              "    </tr>\n",
              "    <tr>\n",
              "      <th>SPORTS</th>\n",
              "      <td>4167</td>\n",
              "    </tr>\n",
              "    <tr>\n",
              "      <th>CRIME</th>\n",
              "      <td>2893</td>\n",
              "    </tr>\n",
              "    <tr>\n",
              "      <th>SCIENCE</th>\n",
              "      <td>1381</td>\n",
              "    </tr>\n",
              "  </tbody>\n",
              "</table>\n",
              "</div><br><label><b>dtype:</b> int64</label>"
            ]
          },
          "metadata": {},
          "execution_count": 13
        }
      ]
    },
    {
      "cell_type": "markdown",
      "source": [
        "## Handle class imbalance\n",
        "As you can see above, SCIENCE category has almost 1/3rd data samples compared to BUSINESS and SPORTS categories. I initially trained a model without handling the imbalanced I saw a lower f1-score for SCIENCE category. Hence we need to address this imbalanced.\n",
        "\n",
        "There are various ways of handling class imbalance which is discussed in this video: https://www.youtube.com/watch?v=JnlM4yLFNuo\n"
      ],
      "metadata": {
        "id": "OpcZQ6HV0kaH"
      }
    },
    {
      "cell_type": "code",
      "source": [
        "min_samples = 1381\n",
        "\n",
        "df_business = df[df.category==\"BUSINESS\"].sample(min_samples, random_state=2022)\n",
        "df_sports = df[df.category==\"SPORTS\"].sample(min_samples, random_state=2022)\n",
        "df_crime = df[df.category==\"CRIME\"].sample(min_samples, random_state=2022)\n",
        "df_science = df[df.category==\"SCIENCE\"].sample(min_samples, random_state=2022)"
      ],
      "metadata": {
        "id": "C4pzr6pe1Cg-"
      },
      "execution_count": 14,
      "outputs": []
    },
    {
      "cell_type": "code",
      "source": [
        "df_balanced = pd.concat([df_business,df_sports,df_crime,df_science],axis=0)\n",
        "df_balanced.category.value_counts()"
      ],
      "metadata": {
        "colab": {
          "base_uri": "https://localhost:8080/",
          "height": 241
        },
        "id": "dCFJxeMg1Lwn",
        "outputId": "c4f13bd7-134e-49f6-e17f-e8db0d0e2666"
      },
      "execution_count": 15,
      "outputs": [
        {
          "output_type": "execute_result",
          "data": {
            "text/plain": [
              "category\n",
              "BUSINESS    1381\n",
              "SPORTS      1381\n",
              "CRIME       1381\n",
              "SCIENCE     1381\n",
              "Name: count, dtype: int64"
            ],
            "text/html": [
              "<div>\n",
              "<style scoped>\n",
              "    .dataframe tbody tr th:only-of-type {\n",
              "        vertical-align: middle;\n",
              "    }\n",
              "\n",
              "    .dataframe tbody tr th {\n",
              "        vertical-align: top;\n",
              "    }\n",
              "\n",
              "    .dataframe thead th {\n",
              "        text-align: right;\n",
              "    }\n",
              "</style>\n",
              "<table border=\"1\" class=\"dataframe\">\n",
              "  <thead>\n",
              "    <tr style=\"text-align: right;\">\n",
              "      <th></th>\n",
              "      <th>count</th>\n",
              "    </tr>\n",
              "    <tr>\n",
              "      <th>category</th>\n",
              "      <th></th>\n",
              "    </tr>\n",
              "  </thead>\n",
              "  <tbody>\n",
              "    <tr>\n",
              "      <th>BUSINESS</th>\n",
              "      <td>1381</td>\n",
              "    </tr>\n",
              "    <tr>\n",
              "      <th>SPORTS</th>\n",
              "      <td>1381</td>\n",
              "    </tr>\n",
              "    <tr>\n",
              "      <th>CRIME</th>\n",
              "      <td>1381</td>\n",
              "    </tr>\n",
              "    <tr>\n",
              "      <th>SCIENCE</th>\n",
              "      <td>1381</td>\n",
              "    </tr>\n",
              "  </tbody>\n",
              "</table>\n",
              "</div><br><label><b>dtype:</b> int64</label>"
            ]
          },
          "metadata": {},
          "execution_count": 15
        }
      ]
    },
    {
      "cell_type": "markdown",
      "source": [
        "Convert text category to a number"
      ],
      "metadata": {
        "id": "-Lr8bB6v1OgS"
      }
    },
    {
      "cell_type": "code",
      "source": [
        "target = {'BUSINESS': 0, 'SPORTS': 1, 'CRIME': 2, 'SCIENCE': 3}\n",
        "\n",
        "df_balanced['category_num'] = df_balanced['category'].map({\n",
        "    'BUSINESS': 0,\n",
        "    'SPORTS': 1,\n",
        "    'CRIME': 2,\n",
        "    'SCIENCE': 3\n",
        "})"
      ],
      "metadata": {
        "id": "dMLJitEY1PrG"
      },
      "execution_count": 16,
      "outputs": []
    },
    {
      "cell_type": "code",
      "source": [
        "df_balanced.head()"
      ],
      "metadata": {
        "colab": {
          "base_uri": "https://localhost:8080/",
          "height": 206
        },
        "id": "EHxCCf8G1e6I",
        "outputId": "9841a89e-e692-4207-bc23-a84d6cf98f8b"
      },
      "execution_count": 17,
      "outputs": [
        {
          "output_type": "execute_result",
          "data": {
            "text/plain": [
              "                                                    text  category  \\\n",
              "11967  GCC Business Leaders Remain Confident in the F...  BUSINESS   \n",
              "2912   From the Other Side; an Honest Review from Emp...  BUSINESS   \n",
              "3408   Mike McDerment, CEO of FreshBooks, Talks About...  BUSINESS   \n",
              "502    How to Market Your Business While Traveling th...  BUSINESS   \n",
              "5279   How to Leverage Intuition in Decision-making I...  BUSINESS   \n",
              "\n",
              "       category_num  \n",
              "11967             0  \n",
              "2912              0  \n",
              "3408              0  \n",
              "502               0  \n",
              "5279              0  "
            ],
            "text/html": [
              "\n",
              "  <div id=\"df-88f2a5bb-d0c4-4cce-94ee-cd88f406adf4\" class=\"colab-df-container\">\n",
              "    <div>\n",
              "<style scoped>\n",
              "    .dataframe tbody tr th:only-of-type {\n",
              "        vertical-align: middle;\n",
              "    }\n",
              "\n",
              "    .dataframe tbody tr th {\n",
              "        vertical-align: top;\n",
              "    }\n",
              "\n",
              "    .dataframe thead th {\n",
              "        text-align: right;\n",
              "    }\n",
              "</style>\n",
              "<table border=\"1\" class=\"dataframe\">\n",
              "  <thead>\n",
              "    <tr style=\"text-align: right;\">\n",
              "      <th></th>\n",
              "      <th>text</th>\n",
              "      <th>category</th>\n",
              "      <th>category_num</th>\n",
              "    </tr>\n",
              "  </thead>\n",
              "  <tbody>\n",
              "    <tr>\n",
              "      <th>11967</th>\n",
              "      <td>GCC Business Leaders Remain Confident in the F...</td>\n",
              "      <td>BUSINESS</td>\n",
              "      <td>0</td>\n",
              "    </tr>\n",
              "    <tr>\n",
              "      <th>2912</th>\n",
              "      <td>From the Other Side; an Honest Review from Emp...</td>\n",
              "      <td>BUSINESS</td>\n",
              "      <td>0</td>\n",
              "    </tr>\n",
              "    <tr>\n",
              "      <th>3408</th>\n",
              "      <td>Mike McDerment, CEO of FreshBooks, Talks About...</td>\n",
              "      <td>BUSINESS</td>\n",
              "      <td>0</td>\n",
              "    </tr>\n",
              "    <tr>\n",
              "      <th>502</th>\n",
              "      <td>How to Market Your Business While Traveling th...</td>\n",
              "      <td>BUSINESS</td>\n",
              "      <td>0</td>\n",
              "    </tr>\n",
              "    <tr>\n",
              "      <th>5279</th>\n",
              "      <td>How to Leverage Intuition in Decision-making I...</td>\n",
              "      <td>BUSINESS</td>\n",
              "      <td>0</td>\n",
              "    </tr>\n",
              "  </tbody>\n",
              "</table>\n",
              "</div>\n",
              "    <div class=\"colab-df-buttons\">\n",
              "\n",
              "  <div class=\"colab-df-container\">\n",
              "    <button class=\"colab-df-convert\" onclick=\"convertToInteractive('df-88f2a5bb-d0c4-4cce-94ee-cd88f406adf4')\"\n",
              "            title=\"Convert this dataframe to an interactive table.\"\n",
              "            style=\"display:none;\">\n",
              "\n",
              "  <svg xmlns=\"http://www.w3.org/2000/svg\" height=\"24px\" viewBox=\"0 -960 960 960\">\n",
              "    <path d=\"M120-120v-720h720v720H120Zm60-500h600v-160H180v160Zm220 220h160v-160H400v160Zm0 220h160v-160H400v160ZM180-400h160v-160H180v160Zm440 0h160v-160H620v160ZM180-180h160v-160H180v160Zm440 0h160v-160H620v160Z\"/>\n",
              "  </svg>\n",
              "    </button>\n",
              "\n",
              "  <style>\n",
              "    .colab-df-container {\n",
              "      display:flex;\n",
              "      gap: 12px;\n",
              "    }\n",
              "\n",
              "    .colab-df-convert {\n",
              "      background-color: #E8F0FE;\n",
              "      border: none;\n",
              "      border-radius: 50%;\n",
              "      cursor: pointer;\n",
              "      display: none;\n",
              "      fill: #1967D2;\n",
              "      height: 32px;\n",
              "      padding: 0 0 0 0;\n",
              "      width: 32px;\n",
              "    }\n",
              "\n",
              "    .colab-df-convert:hover {\n",
              "      background-color: #E2EBFA;\n",
              "      box-shadow: 0px 1px 2px rgba(60, 64, 67, 0.3), 0px 1px 3px 1px rgba(60, 64, 67, 0.15);\n",
              "      fill: #174EA6;\n",
              "    }\n",
              "\n",
              "    .colab-df-buttons div {\n",
              "      margin-bottom: 4px;\n",
              "    }\n",
              "\n",
              "    [theme=dark] .colab-df-convert {\n",
              "      background-color: #3B4455;\n",
              "      fill: #D2E3FC;\n",
              "    }\n",
              "\n",
              "    [theme=dark] .colab-df-convert:hover {\n",
              "      background-color: #434B5C;\n",
              "      box-shadow: 0px 1px 3px 1px rgba(0, 0, 0, 0.15);\n",
              "      filter: drop-shadow(0px 1px 2px rgba(0, 0, 0, 0.3));\n",
              "      fill: #FFFFFF;\n",
              "    }\n",
              "  </style>\n",
              "\n",
              "    <script>\n",
              "      const buttonEl =\n",
              "        document.querySelector('#df-88f2a5bb-d0c4-4cce-94ee-cd88f406adf4 button.colab-df-convert');\n",
              "      buttonEl.style.display =\n",
              "        google.colab.kernel.accessAllowed ? 'block' : 'none';\n",
              "\n",
              "      async function convertToInteractive(key) {\n",
              "        const element = document.querySelector('#df-88f2a5bb-d0c4-4cce-94ee-cd88f406adf4');\n",
              "        const dataTable =\n",
              "          await google.colab.kernel.invokeFunction('convertToInteractive',\n",
              "                                                    [key], {});\n",
              "        if (!dataTable) return;\n",
              "\n",
              "        const docLinkHtml = 'Like what you see? Visit the ' +\n",
              "          '<a target=\"_blank\" href=https://colab.research.google.com/notebooks/data_table.ipynb>data table notebook</a>'\n",
              "          + ' to learn more about interactive tables.';\n",
              "        element.innerHTML = '';\n",
              "        dataTable['output_type'] = 'display_data';\n",
              "        await google.colab.output.renderOutput(dataTable, element);\n",
              "        const docLink = document.createElement('div');\n",
              "        docLink.innerHTML = docLinkHtml;\n",
              "        element.appendChild(docLink);\n",
              "      }\n",
              "    </script>\n",
              "  </div>\n",
              "\n",
              "\n",
              "    <div id=\"df-2fde3833-3880-4634-aa9f-d033b62ec687\">\n",
              "      <button class=\"colab-df-quickchart\" onclick=\"quickchart('df-2fde3833-3880-4634-aa9f-d033b62ec687')\"\n",
              "                title=\"Suggest charts\"\n",
              "                style=\"display:none;\">\n",
              "\n",
              "<svg xmlns=\"http://www.w3.org/2000/svg\" height=\"24px\"viewBox=\"0 0 24 24\"\n",
              "     width=\"24px\">\n",
              "    <g>\n",
              "        <path d=\"M19 3H5c-1.1 0-2 .9-2 2v14c0 1.1.9 2 2 2h14c1.1 0 2-.9 2-2V5c0-1.1-.9-2-2-2zM9 17H7v-7h2v7zm4 0h-2V7h2v10zm4 0h-2v-4h2v4z\"/>\n",
              "    </g>\n",
              "</svg>\n",
              "      </button>\n",
              "\n",
              "<style>\n",
              "  .colab-df-quickchart {\n",
              "      --bg-color: #E8F0FE;\n",
              "      --fill-color: #1967D2;\n",
              "      --hover-bg-color: #E2EBFA;\n",
              "      --hover-fill-color: #174EA6;\n",
              "      --disabled-fill-color: #AAA;\n",
              "      --disabled-bg-color: #DDD;\n",
              "  }\n",
              "\n",
              "  [theme=dark] .colab-df-quickchart {\n",
              "      --bg-color: #3B4455;\n",
              "      --fill-color: #D2E3FC;\n",
              "      --hover-bg-color: #434B5C;\n",
              "      --hover-fill-color: #FFFFFF;\n",
              "      --disabled-bg-color: #3B4455;\n",
              "      --disabled-fill-color: #666;\n",
              "  }\n",
              "\n",
              "  .colab-df-quickchart {\n",
              "    background-color: var(--bg-color);\n",
              "    border: none;\n",
              "    border-radius: 50%;\n",
              "    cursor: pointer;\n",
              "    display: none;\n",
              "    fill: var(--fill-color);\n",
              "    height: 32px;\n",
              "    padding: 0;\n",
              "    width: 32px;\n",
              "  }\n",
              "\n",
              "  .colab-df-quickchart:hover {\n",
              "    background-color: var(--hover-bg-color);\n",
              "    box-shadow: 0 1px 2px rgba(60, 64, 67, 0.3), 0 1px 3px 1px rgba(60, 64, 67, 0.15);\n",
              "    fill: var(--button-hover-fill-color);\n",
              "  }\n",
              "\n",
              "  .colab-df-quickchart-complete:disabled,\n",
              "  .colab-df-quickchart-complete:disabled:hover {\n",
              "    background-color: var(--disabled-bg-color);\n",
              "    fill: var(--disabled-fill-color);\n",
              "    box-shadow: none;\n",
              "  }\n",
              "\n",
              "  .colab-df-spinner {\n",
              "    border: 2px solid var(--fill-color);\n",
              "    border-color: transparent;\n",
              "    border-bottom-color: var(--fill-color);\n",
              "    animation:\n",
              "      spin 1s steps(1) infinite;\n",
              "  }\n",
              "\n",
              "  @keyframes spin {\n",
              "    0% {\n",
              "      border-color: transparent;\n",
              "      border-bottom-color: var(--fill-color);\n",
              "      border-left-color: var(--fill-color);\n",
              "    }\n",
              "    20% {\n",
              "      border-color: transparent;\n",
              "      border-left-color: var(--fill-color);\n",
              "      border-top-color: var(--fill-color);\n",
              "    }\n",
              "    30% {\n",
              "      border-color: transparent;\n",
              "      border-left-color: var(--fill-color);\n",
              "      border-top-color: var(--fill-color);\n",
              "      border-right-color: var(--fill-color);\n",
              "    }\n",
              "    40% {\n",
              "      border-color: transparent;\n",
              "      border-right-color: var(--fill-color);\n",
              "      border-top-color: var(--fill-color);\n",
              "    }\n",
              "    60% {\n",
              "      border-color: transparent;\n",
              "      border-right-color: var(--fill-color);\n",
              "    }\n",
              "    80% {\n",
              "      border-color: transparent;\n",
              "      border-right-color: var(--fill-color);\n",
              "      border-bottom-color: var(--fill-color);\n",
              "    }\n",
              "    90% {\n",
              "      border-color: transparent;\n",
              "      border-bottom-color: var(--fill-color);\n",
              "    }\n",
              "  }\n",
              "</style>\n",
              "\n",
              "      <script>\n",
              "        async function quickchart(key) {\n",
              "          const quickchartButtonEl =\n",
              "            document.querySelector('#' + key + ' button');\n",
              "          quickchartButtonEl.disabled = true;  // To prevent multiple clicks.\n",
              "          quickchartButtonEl.classList.add('colab-df-spinner');\n",
              "          try {\n",
              "            const charts = await google.colab.kernel.invokeFunction(\n",
              "                'suggestCharts', [key], {});\n",
              "          } catch (error) {\n",
              "            console.error('Error during call to suggestCharts:', error);\n",
              "          }\n",
              "          quickchartButtonEl.classList.remove('colab-df-spinner');\n",
              "          quickchartButtonEl.classList.add('colab-df-quickchart-complete');\n",
              "        }\n",
              "        (() => {\n",
              "          let quickchartButtonEl =\n",
              "            document.querySelector('#df-2fde3833-3880-4634-aa9f-d033b62ec687 button');\n",
              "          quickchartButtonEl.style.display =\n",
              "            google.colab.kernel.accessAllowed ? 'block' : 'none';\n",
              "        })();\n",
              "      </script>\n",
              "    </div>\n",
              "\n",
              "    </div>\n",
              "  </div>\n"
            ],
            "application/vnd.google.colaboratory.intrinsic+json": {
              "type": "dataframe",
              "variable_name": "df_balanced",
              "summary": "{\n  \"name\": \"df_balanced\",\n  \"rows\": 5524,\n  \"fields\": [\n    {\n      \"column\": \"text\",\n      \"properties\": {\n        \"dtype\": \"string\",\n        \"num_unique_values\": 5523,\n        \"samples\": [\n          \"The 'LeBron James' Kid Is Back We missed you.\",\n          \"Here's How Rats End Up In Toilet Bowls Fun fact: Rats can hold their breath for up to three minutes.\",\n          \"Washington Wizards' Dynamic Backcourt Duo Of John Wall And Bradley Beal Is Making Waves \"\n        ],\n        \"semantic_type\": \"\",\n        \"description\": \"\"\n      }\n    },\n    {\n      \"column\": \"category\",\n      \"properties\": {\n        \"dtype\": \"category\",\n        \"num_unique_values\": 4,\n        \"samples\": [\n          \"SPORTS\",\n          \"SCIENCE\",\n          \"BUSINESS\"\n        ],\n        \"semantic_type\": \"\",\n        \"description\": \"\"\n      }\n    },\n    {\n      \"column\": \"category_num\",\n      \"properties\": {\n        \"dtype\": \"number\",\n        \"std\": 1,\n        \"min\": 0,\n        \"max\": 3,\n        \"num_unique_values\": 4,\n        \"samples\": [\n          1,\n          3,\n          0\n        ],\n        \"semantic_type\": \"\",\n        \"description\": \"\"\n      }\n    }\n  ]\n}"
            }
          },
          "metadata": {},
          "execution_count": 17
        }
      ]
    },
    {
      "cell_type": "markdown",
      "source": [
        "Build a model with original text (no pre processing)"
      ],
      "metadata": {
        "id": "3KIFnYAz1lFf"
      }
    },
    {
      "cell_type": "code",
      "source": [
        "from sklearn.model_selection import train_test_split\n",
        "\n",
        "X_train, X_test, y_train, y_test = train_test_split(\n",
        "    df_balanced.text,\n",
        "    df_balanced.category_num,\n",
        "    test_size=0.2,\n",
        "    random_state=2022,\n",
        "    stratify=df_balanced.category_num\n",
        ")"
      ],
      "metadata": {
        "id": "DvgnjSon1mTe"
      },
      "execution_count": 18,
      "outputs": []
    },
    {
      "cell_type": "code",
      "source": [
        "print(X_train.shape)\n",
        "X_train.head()"
      ],
      "metadata": {
        "colab": {
          "base_uri": "https://localhost:8080/",
          "height": 258
        },
        "id": "SaB0ukb-2Jvy",
        "outputId": "70b1b538-7258-4060-e804-75d08c089c6f"
      },
      "execution_count": 19,
      "outputs": [
        {
          "output_type": "stream",
          "name": "stdout",
          "text": [
            "(4419,)\n"
          ]
        },
        {
          "output_type": "execute_result",
          "data": {
            "text/plain": [
              "7589     Ovulating Women Prefer Images of Penetration O...\n",
              "10442    Scientists Discover Spooky Influence On Baby N...\n",
              "8792     Olympic Race Walker Steps Up To Propose To His...\n",
              "1733     Beloved Bipedal Bear Named Pedals Believed Kil...\n",
              "2526     Elizabeth Smart Gave Birth To Baby Girl, Fathe...\n",
              "Name: text, dtype: object"
            ],
            "text/html": [
              "<div>\n",
              "<style scoped>\n",
              "    .dataframe tbody tr th:only-of-type {\n",
              "        vertical-align: middle;\n",
              "    }\n",
              "\n",
              "    .dataframe tbody tr th {\n",
              "        vertical-align: top;\n",
              "    }\n",
              "\n",
              "    .dataframe thead th {\n",
              "        text-align: right;\n",
              "    }\n",
              "</style>\n",
              "<table border=\"1\" class=\"dataframe\">\n",
              "  <thead>\n",
              "    <tr style=\"text-align: right;\">\n",
              "      <th></th>\n",
              "      <th>text</th>\n",
              "    </tr>\n",
              "  </thead>\n",
              "  <tbody>\n",
              "    <tr>\n",
              "      <th>7589</th>\n",
              "      <td>Ovulating Women Prefer Images of Penetration O...</td>\n",
              "    </tr>\n",
              "    <tr>\n",
              "      <th>10442</th>\n",
              "      <td>Scientists Discover Spooky Influence On Baby N...</td>\n",
              "    </tr>\n",
              "    <tr>\n",
              "      <th>8792</th>\n",
              "      <td>Olympic Race Walker Steps Up To Propose To His...</td>\n",
              "    </tr>\n",
              "    <tr>\n",
              "      <th>1733</th>\n",
              "      <td>Beloved Bipedal Bear Named Pedals Believed Kil...</td>\n",
              "    </tr>\n",
              "    <tr>\n",
              "      <th>2526</th>\n",
              "      <td>Elizabeth Smart Gave Birth To Baby Girl, Fathe...</td>\n",
              "    </tr>\n",
              "  </tbody>\n",
              "</table>\n",
              "</div><br><label><b>dtype:</b> object</label>"
            ]
          },
          "metadata": {},
          "execution_count": 19
        }
      ]
    },
    {
      "cell_type": "code",
      "source": [
        "y_train.value_counts()"
      ],
      "metadata": {
        "colab": {
          "base_uri": "https://localhost:8080/",
          "height": 241
        },
        "id": "GBszhOEY2VGA",
        "outputId": "025de42d-ab3b-4eaa-b542-28c09cee7383"
      },
      "execution_count": 20,
      "outputs": [
        {
          "output_type": "execute_result",
          "data": {
            "text/plain": [
              "category_num\n",
              "3    1105\n",
              "2    1105\n",
              "0    1105\n",
              "1    1104\n",
              "Name: count, dtype: int64"
            ],
            "text/html": [
              "<div>\n",
              "<style scoped>\n",
              "    .dataframe tbody tr th:only-of-type {\n",
              "        vertical-align: middle;\n",
              "    }\n",
              "\n",
              "    .dataframe tbody tr th {\n",
              "        vertical-align: top;\n",
              "    }\n",
              "\n",
              "    .dataframe thead th {\n",
              "        text-align: right;\n",
              "    }\n",
              "</style>\n",
              "<table border=\"1\" class=\"dataframe\">\n",
              "  <thead>\n",
              "    <tr style=\"text-align: right;\">\n",
              "      <th></th>\n",
              "      <th>count</th>\n",
              "    </tr>\n",
              "    <tr>\n",
              "      <th>category_num</th>\n",
              "      <th></th>\n",
              "    </tr>\n",
              "  </thead>\n",
              "  <tbody>\n",
              "    <tr>\n",
              "      <th>3</th>\n",
              "      <td>1105</td>\n",
              "    </tr>\n",
              "    <tr>\n",
              "      <th>2</th>\n",
              "      <td>1105</td>\n",
              "    </tr>\n",
              "    <tr>\n",
              "      <th>0</th>\n",
              "      <td>1105</td>\n",
              "    </tr>\n",
              "    <tr>\n",
              "      <th>1</th>\n",
              "      <td>1104</td>\n",
              "    </tr>\n",
              "  </tbody>\n",
              "</table>\n",
              "</div><br><label><b>dtype:</b> int64</label>"
            ]
          },
          "metadata": {},
          "execution_count": 20
        }
      ]
    },
    {
      "cell_type": "code",
      "source": [
        "y_test.value_counts()"
      ],
      "metadata": {
        "colab": {
          "base_uri": "https://localhost:8080/",
          "height": 241
        },
        "id": "il8wTm_D2bKu",
        "outputId": "b06bfc81-eedb-4b7a-dbbf-a1d9ebde152f"
      },
      "execution_count": 21,
      "outputs": [
        {
          "output_type": "execute_result",
          "data": {
            "text/plain": [
              "category_num\n",
              "1    277\n",
              "0    276\n",
              "3    276\n",
              "2    276\n",
              "Name: count, dtype: int64"
            ],
            "text/html": [
              "<div>\n",
              "<style scoped>\n",
              "    .dataframe tbody tr th:only-of-type {\n",
              "        vertical-align: middle;\n",
              "    }\n",
              "\n",
              "    .dataframe tbody tr th {\n",
              "        vertical-align: top;\n",
              "    }\n",
              "\n",
              "    .dataframe thead th {\n",
              "        text-align: right;\n",
              "    }\n",
              "</style>\n",
              "<table border=\"1\" class=\"dataframe\">\n",
              "  <thead>\n",
              "    <tr style=\"text-align: right;\">\n",
              "      <th></th>\n",
              "      <th>count</th>\n",
              "    </tr>\n",
              "    <tr>\n",
              "      <th>category_num</th>\n",
              "      <th></th>\n",
              "    </tr>\n",
              "  </thead>\n",
              "  <tbody>\n",
              "    <tr>\n",
              "      <th>1</th>\n",
              "      <td>277</td>\n",
              "    </tr>\n",
              "    <tr>\n",
              "      <th>0</th>\n",
              "      <td>276</td>\n",
              "    </tr>\n",
              "    <tr>\n",
              "      <th>3</th>\n",
              "      <td>276</td>\n",
              "    </tr>\n",
              "    <tr>\n",
              "      <th>2</th>\n",
              "      <td>276</td>\n",
              "    </tr>\n",
              "  </tbody>\n",
              "</table>\n",
              "</div><br><label><b>dtype:</b> int64</label>"
            ]
          },
          "metadata": {},
          "execution_count": 21
        }
      ]
    },
    {
      "cell_type": "markdown",
      "source": [
        "### Attempt 1 : Use 1-gram which is nothing but a Bag Of Words (BOW) model"
      ],
      "metadata": {
        "id": "LdzGlGKU2dmK"
      }
    },
    {
      "cell_type": "code",
      "source": [
        "from sklearn.naive_bayes import MultinomialNB\n",
        "from sklearn.pipeline import Pipeline\n",
        "from sklearn.metrics import classification_report\n",
        "\n",
        "clf = Pipeline([\n",
        "    ('vectorizer_bow', CountVectorizer(ngram_range = (1,1))),\n",
        "    ('Multi NB', MultinomialNB())\n",
        "])\n",
        "\n",
        "clf.fit(X_train, y_train)\n",
        "\n",
        "y_pred = clf.predict(X_test)\n",
        "\n",
        "print(classification_report(y_test,y_pred))"
      ],
      "metadata": {
        "colab": {
          "base_uri": "https://localhost:8080/"
        },
        "id": "iQwnt4eN2fAA",
        "outputId": "63e90a4e-cfbd-4250-f8b5-3ffafbd8f8f2"
      },
      "execution_count": 22,
      "outputs": [
        {
          "output_type": "stream",
          "name": "stdout",
          "text": [
            "              precision    recall  f1-score   support\n",
            "\n",
            "           0       0.75      0.87      0.81       276\n",
            "           1       0.93      0.80      0.86       277\n",
            "           2       0.83      0.90      0.86       276\n",
            "           3       0.90      0.80      0.85       276\n",
            "\n",
            "    accuracy                           0.84      1105\n",
            "   macro avg       0.85      0.84      0.84      1105\n",
            "weighted avg       0.85      0.84      0.84      1105\n",
            "\n"
          ]
        }
      ]
    },
    {
      "cell_type": "code",
      "source": [
        "X_test[:5]"
      ],
      "metadata": {
        "colab": {
          "base_uri": "https://localhost:8080/",
          "height": 241
        },
        "id": "3ghNwb2r26Af",
        "outputId": "7181735c-1160-456b-b953-ab6c67729908"
      },
      "execution_count": 23,
      "outputs": [
        {
          "output_type": "execute_result",
          "data": {
            "text/plain": [
              "3716     African Nation Slaps Exxon With Fine Nearly 7 ...\n",
              "608      These Cringe-Worthy Stories Show It Can Be Har...\n",
              "11172    LISTEN: The Accidental Discovery That Proved T...\n",
              "1346     Build Loyalty -- The Cost -- $00.00 Remember y...\n",
              "1356     Man Killed By Michigan Police Wasn't Targeting...\n",
              "Name: text, dtype: object"
            ],
            "text/html": [
              "<div>\n",
              "<style scoped>\n",
              "    .dataframe tbody tr th:only-of-type {\n",
              "        vertical-align: middle;\n",
              "    }\n",
              "\n",
              "    .dataframe tbody tr th {\n",
              "        vertical-align: top;\n",
              "    }\n",
              "\n",
              "    .dataframe thead th {\n",
              "        text-align: right;\n",
              "    }\n",
              "</style>\n",
              "<table border=\"1\" class=\"dataframe\">\n",
              "  <thead>\n",
              "    <tr style=\"text-align: right;\">\n",
              "      <th></th>\n",
              "      <th>text</th>\n",
              "    </tr>\n",
              "  </thead>\n",
              "  <tbody>\n",
              "    <tr>\n",
              "      <th>3716</th>\n",
              "      <td>African Nation Slaps Exxon With Fine Nearly 7 ...</td>\n",
              "    </tr>\n",
              "    <tr>\n",
              "      <th>608</th>\n",
              "      <td>These Cringe-Worthy Stories Show It Can Be Har...</td>\n",
              "    </tr>\n",
              "    <tr>\n",
              "      <th>11172</th>\n",
              "      <td>LISTEN: The Accidental Discovery That Proved T...</td>\n",
              "    </tr>\n",
              "    <tr>\n",
              "      <th>1346</th>\n",
              "      <td>Build Loyalty -- The Cost -- $00.00 Remember y...</td>\n",
              "    </tr>\n",
              "    <tr>\n",
              "      <th>1356</th>\n",
              "      <td>Man Killed By Michigan Police Wasn't Targeting...</td>\n",
              "    </tr>\n",
              "  </tbody>\n",
              "</table>\n",
              "</div><br><label><b>dtype:</b> object</label>"
            ]
          },
          "metadata": {},
          "execution_count": 23
        }
      ]
    },
    {
      "cell_type": "code",
      "source": [
        "y_pred[:5]"
      ],
      "metadata": {
        "colab": {
          "base_uri": "https://localhost:8080/"
        },
        "id": "JW0LeANt2-Jg",
        "outputId": "4e464b61-3874-4701-9d8c-c8f44c0f8b56"
      },
      "execution_count": 24,
      "outputs": [
        {
          "output_type": "execute_result",
          "data": {
            "text/plain": [
              "array([0, 3, 3, 0, 2])"
            ]
          },
          "metadata": {},
          "execution_count": 24
        }
      ]
    },
    {
      "cell_type": "markdown",
      "source": [
        "### Attempt 2 : Use 1-gram and bigrams"
      ],
      "metadata": {
        "id": "hF48SKIv3FCX"
      }
    },
    {
      "cell_type": "code",
      "source": [
        "clf = Pipeline([\n",
        "    ('vectorizer_1_2_gram', CountVectorizer(ngram_range = (1,2))),\n",
        "    ('Multi NB', MultinomialNB())\n",
        "])\n",
        "\n",
        "clf.fit(X_train, y_train)\n",
        "\n",
        "y_pred = clf.predict(X_test)\n",
        "\n",
        "print(classification_report(y_test,y_pred))"
      ],
      "metadata": {
        "colab": {
          "base_uri": "https://localhost:8080/"
        },
        "id": "Ei5RLX9Y3GpP",
        "outputId": "8f1de209-e647-4bbc-efbd-6e18619a434d"
      },
      "execution_count": 25,
      "outputs": [
        {
          "output_type": "stream",
          "name": "stdout",
          "text": [
            "              precision    recall  f1-score   support\n",
            "\n",
            "           0       0.69      0.90      0.78       276\n",
            "           1       0.95      0.74      0.83       277\n",
            "           2       0.82      0.88      0.85       276\n",
            "           3       0.92      0.78      0.84       276\n",
            "\n",
            "    accuracy                           0.82      1105\n",
            "   macro avg       0.85      0.82      0.83      1105\n",
            "weighted avg       0.85      0.82      0.83      1105\n",
            "\n"
          ]
        }
      ]
    },
    {
      "cell_type": "markdown",
      "source": [
        "### Attempt 3 : Use 1-gram to trigrams"
      ],
      "metadata": {
        "id": "EvGppjj23Pjf"
      }
    },
    {
      "cell_type": "code",
      "source": [
        "clf = Pipeline([\n",
        "    ('vectorizer_1_3_gram', CountVectorizer(ngram_range = (1,3))),\n",
        "    ('Multi NB', MultinomialNB())\n",
        "])\n",
        "\n",
        "clf.fit(X_train, y_train)\n",
        "\n",
        "y_pred = clf.predict(X_test)\n",
        "\n",
        "print(classification_report(y_test,y_pred))"
      ],
      "metadata": {
        "colab": {
          "base_uri": "https://localhost:8080/"
        },
        "id": "I2I7b0T13Q2O",
        "outputId": "dc2a5217-59f1-4e20-d878-cc0c3c9bac2e"
      },
      "execution_count": 26,
      "outputs": [
        {
          "output_type": "stream",
          "name": "stdout",
          "text": [
            "              precision    recall  f1-score   support\n",
            "\n",
            "           0       0.67      0.91      0.77       276\n",
            "           1       0.96      0.73      0.83       277\n",
            "           2       0.83      0.87      0.85       276\n",
            "           3       0.93      0.76      0.83       276\n",
            "\n",
            "    accuracy                           0.82      1105\n",
            "   macro avg       0.84      0.82      0.82      1105\n",
            "weighted avg       0.84      0.82      0.82      1105\n",
            "\n"
          ]
        }
      ]
    },
    {
      "cell_type": "markdown",
      "source": [
        "## Use text pre-processing to remove stop words, punctuations and apply lemmatization\n",
        "\n",
        "We wanted to train the model without any preprocessing first and check the performance. Now we will re-do the same thing but with pre-processing of text."
      ],
      "metadata": {
        "id": "HX1YSQQm3apP"
      }
    },
    {
      "cell_type": "code",
      "source": [
        "df_balanced['preprocessed_txt'] = df_balanced['text'].apply(preprocess)"
      ],
      "metadata": {
        "id": "2zxDprl03vP-"
      },
      "execution_count": 27,
      "outputs": []
    },
    {
      "cell_type": "code",
      "source": [
        "df_balanced.head()"
      ],
      "metadata": {
        "colab": {
          "base_uri": "https://localhost:8080/",
          "height": 206
        },
        "id": "1YMMEFXE3ymu",
        "outputId": "3ea3725f-825e-4db0-b47f-cbce6506ef75"
      },
      "execution_count": 28,
      "outputs": [
        {
          "output_type": "execute_result",
          "data": {
            "text/plain": [
              "                                                    text  category  \\\n",
              "11967  GCC Business Leaders Remain Confident in the F...  BUSINESS   \n",
              "2912   From the Other Side; an Honest Review from Emp...  BUSINESS   \n",
              "3408   Mike McDerment, CEO of FreshBooks, Talks About...  BUSINESS   \n",
              "502    How to Market Your Business While Traveling th...  BUSINESS   \n",
              "5279   How to Leverage Intuition in Decision-making I...  BUSINESS   \n",
              "\n",
              "       category_num                                   preprocessed_txt  \n",
              "11967             0  GCC Business leader remain confident Face Regi...  \n",
              "2912              0  Honest Review Employees wake morning love impo...  \n",
              "3408              0  Mike McDerment CEO FreshBooks Talks give build...  \n",
              "502               0  market business travel World recently amazing ...  \n",
              "5279              0  leverage intuition decision making feel safe r...  "
            ],
            "text/html": [
              "\n",
              "  <div id=\"df-08570844-779d-4c6c-a340-334af91a1b52\" class=\"colab-df-container\">\n",
              "    <div>\n",
              "<style scoped>\n",
              "    .dataframe tbody tr th:only-of-type {\n",
              "        vertical-align: middle;\n",
              "    }\n",
              "\n",
              "    .dataframe tbody tr th {\n",
              "        vertical-align: top;\n",
              "    }\n",
              "\n",
              "    .dataframe thead th {\n",
              "        text-align: right;\n",
              "    }\n",
              "</style>\n",
              "<table border=\"1\" class=\"dataframe\">\n",
              "  <thead>\n",
              "    <tr style=\"text-align: right;\">\n",
              "      <th></th>\n",
              "      <th>text</th>\n",
              "      <th>category</th>\n",
              "      <th>category_num</th>\n",
              "      <th>preprocessed_txt</th>\n",
              "    </tr>\n",
              "  </thead>\n",
              "  <tbody>\n",
              "    <tr>\n",
              "      <th>11967</th>\n",
              "      <td>GCC Business Leaders Remain Confident in the F...</td>\n",
              "      <td>BUSINESS</td>\n",
              "      <td>0</td>\n",
              "      <td>GCC Business leader remain confident Face Regi...</td>\n",
              "    </tr>\n",
              "    <tr>\n",
              "      <th>2912</th>\n",
              "      <td>From the Other Side; an Honest Review from Emp...</td>\n",
              "      <td>BUSINESS</td>\n",
              "      <td>0</td>\n",
              "      <td>Honest Review Employees wake morning love impo...</td>\n",
              "    </tr>\n",
              "    <tr>\n",
              "      <th>3408</th>\n",
              "      <td>Mike McDerment, CEO of FreshBooks, Talks About...</td>\n",
              "      <td>BUSINESS</td>\n",
              "      <td>0</td>\n",
              "      <td>Mike McDerment CEO FreshBooks Talks give build...</td>\n",
              "    </tr>\n",
              "    <tr>\n",
              "      <th>502</th>\n",
              "      <td>How to Market Your Business While Traveling th...</td>\n",
              "      <td>BUSINESS</td>\n",
              "      <td>0</td>\n",
              "      <td>market business travel World recently amazing ...</td>\n",
              "    </tr>\n",
              "    <tr>\n",
              "      <th>5279</th>\n",
              "      <td>How to Leverage Intuition in Decision-making I...</td>\n",
              "      <td>BUSINESS</td>\n",
              "      <td>0</td>\n",
              "      <td>leverage intuition decision making feel safe r...</td>\n",
              "    </tr>\n",
              "  </tbody>\n",
              "</table>\n",
              "</div>\n",
              "    <div class=\"colab-df-buttons\">\n",
              "\n",
              "  <div class=\"colab-df-container\">\n",
              "    <button class=\"colab-df-convert\" onclick=\"convertToInteractive('df-08570844-779d-4c6c-a340-334af91a1b52')\"\n",
              "            title=\"Convert this dataframe to an interactive table.\"\n",
              "            style=\"display:none;\">\n",
              "\n",
              "  <svg xmlns=\"http://www.w3.org/2000/svg\" height=\"24px\" viewBox=\"0 -960 960 960\">\n",
              "    <path d=\"M120-120v-720h720v720H120Zm60-500h600v-160H180v160Zm220 220h160v-160H400v160Zm0 220h160v-160H400v160ZM180-400h160v-160H180v160Zm440 0h160v-160H620v160ZM180-180h160v-160H180v160Zm440 0h160v-160H620v160Z\"/>\n",
              "  </svg>\n",
              "    </button>\n",
              "\n",
              "  <style>\n",
              "    .colab-df-container {\n",
              "      display:flex;\n",
              "      gap: 12px;\n",
              "    }\n",
              "\n",
              "    .colab-df-convert {\n",
              "      background-color: #E8F0FE;\n",
              "      border: none;\n",
              "      border-radius: 50%;\n",
              "      cursor: pointer;\n",
              "      display: none;\n",
              "      fill: #1967D2;\n",
              "      height: 32px;\n",
              "      padding: 0 0 0 0;\n",
              "      width: 32px;\n",
              "    }\n",
              "\n",
              "    .colab-df-convert:hover {\n",
              "      background-color: #E2EBFA;\n",
              "      box-shadow: 0px 1px 2px rgba(60, 64, 67, 0.3), 0px 1px 3px 1px rgba(60, 64, 67, 0.15);\n",
              "      fill: #174EA6;\n",
              "    }\n",
              "\n",
              "    .colab-df-buttons div {\n",
              "      margin-bottom: 4px;\n",
              "    }\n",
              "\n",
              "    [theme=dark] .colab-df-convert {\n",
              "      background-color: #3B4455;\n",
              "      fill: #D2E3FC;\n",
              "    }\n",
              "\n",
              "    [theme=dark] .colab-df-convert:hover {\n",
              "      background-color: #434B5C;\n",
              "      box-shadow: 0px 1px 3px 1px rgba(0, 0, 0, 0.15);\n",
              "      filter: drop-shadow(0px 1px 2px rgba(0, 0, 0, 0.3));\n",
              "      fill: #FFFFFF;\n",
              "    }\n",
              "  </style>\n",
              "\n",
              "    <script>\n",
              "      const buttonEl =\n",
              "        document.querySelector('#df-08570844-779d-4c6c-a340-334af91a1b52 button.colab-df-convert');\n",
              "      buttonEl.style.display =\n",
              "        google.colab.kernel.accessAllowed ? 'block' : 'none';\n",
              "\n",
              "      async function convertToInteractive(key) {\n",
              "        const element = document.querySelector('#df-08570844-779d-4c6c-a340-334af91a1b52');\n",
              "        const dataTable =\n",
              "          await google.colab.kernel.invokeFunction('convertToInteractive',\n",
              "                                                    [key], {});\n",
              "        if (!dataTable) return;\n",
              "\n",
              "        const docLinkHtml = 'Like what you see? Visit the ' +\n",
              "          '<a target=\"_blank\" href=https://colab.research.google.com/notebooks/data_table.ipynb>data table notebook</a>'\n",
              "          + ' to learn more about interactive tables.';\n",
              "        element.innerHTML = '';\n",
              "        dataTable['output_type'] = 'display_data';\n",
              "        await google.colab.output.renderOutput(dataTable, element);\n",
              "        const docLink = document.createElement('div');\n",
              "        docLink.innerHTML = docLinkHtml;\n",
              "        element.appendChild(docLink);\n",
              "      }\n",
              "    </script>\n",
              "  </div>\n",
              "\n",
              "\n",
              "    <div id=\"df-8e14f923-8e70-4f32-a833-e5710e8b584d\">\n",
              "      <button class=\"colab-df-quickchart\" onclick=\"quickchart('df-8e14f923-8e70-4f32-a833-e5710e8b584d')\"\n",
              "                title=\"Suggest charts\"\n",
              "                style=\"display:none;\">\n",
              "\n",
              "<svg xmlns=\"http://www.w3.org/2000/svg\" height=\"24px\"viewBox=\"0 0 24 24\"\n",
              "     width=\"24px\">\n",
              "    <g>\n",
              "        <path d=\"M19 3H5c-1.1 0-2 .9-2 2v14c0 1.1.9 2 2 2h14c1.1 0 2-.9 2-2V5c0-1.1-.9-2-2-2zM9 17H7v-7h2v7zm4 0h-2V7h2v10zm4 0h-2v-4h2v4z\"/>\n",
              "    </g>\n",
              "</svg>\n",
              "      </button>\n",
              "\n",
              "<style>\n",
              "  .colab-df-quickchart {\n",
              "      --bg-color: #E8F0FE;\n",
              "      --fill-color: #1967D2;\n",
              "      --hover-bg-color: #E2EBFA;\n",
              "      --hover-fill-color: #174EA6;\n",
              "      --disabled-fill-color: #AAA;\n",
              "      --disabled-bg-color: #DDD;\n",
              "  }\n",
              "\n",
              "  [theme=dark] .colab-df-quickchart {\n",
              "      --bg-color: #3B4455;\n",
              "      --fill-color: #D2E3FC;\n",
              "      --hover-bg-color: #434B5C;\n",
              "      --hover-fill-color: #FFFFFF;\n",
              "      --disabled-bg-color: #3B4455;\n",
              "      --disabled-fill-color: #666;\n",
              "  }\n",
              "\n",
              "  .colab-df-quickchart {\n",
              "    background-color: var(--bg-color);\n",
              "    border: none;\n",
              "    border-radius: 50%;\n",
              "    cursor: pointer;\n",
              "    display: none;\n",
              "    fill: var(--fill-color);\n",
              "    height: 32px;\n",
              "    padding: 0;\n",
              "    width: 32px;\n",
              "  }\n",
              "\n",
              "  .colab-df-quickchart:hover {\n",
              "    background-color: var(--hover-bg-color);\n",
              "    box-shadow: 0 1px 2px rgba(60, 64, 67, 0.3), 0 1px 3px 1px rgba(60, 64, 67, 0.15);\n",
              "    fill: var(--button-hover-fill-color);\n",
              "  }\n",
              "\n",
              "  .colab-df-quickchart-complete:disabled,\n",
              "  .colab-df-quickchart-complete:disabled:hover {\n",
              "    background-color: var(--disabled-bg-color);\n",
              "    fill: var(--disabled-fill-color);\n",
              "    box-shadow: none;\n",
              "  }\n",
              "\n",
              "  .colab-df-spinner {\n",
              "    border: 2px solid var(--fill-color);\n",
              "    border-color: transparent;\n",
              "    border-bottom-color: var(--fill-color);\n",
              "    animation:\n",
              "      spin 1s steps(1) infinite;\n",
              "  }\n",
              "\n",
              "  @keyframes spin {\n",
              "    0% {\n",
              "      border-color: transparent;\n",
              "      border-bottom-color: var(--fill-color);\n",
              "      border-left-color: var(--fill-color);\n",
              "    }\n",
              "    20% {\n",
              "      border-color: transparent;\n",
              "      border-left-color: var(--fill-color);\n",
              "      border-top-color: var(--fill-color);\n",
              "    }\n",
              "    30% {\n",
              "      border-color: transparent;\n",
              "      border-left-color: var(--fill-color);\n",
              "      border-top-color: var(--fill-color);\n",
              "      border-right-color: var(--fill-color);\n",
              "    }\n",
              "    40% {\n",
              "      border-color: transparent;\n",
              "      border-right-color: var(--fill-color);\n",
              "      border-top-color: var(--fill-color);\n",
              "    }\n",
              "    60% {\n",
              "      border-color: transparent;\n",
              "      border-right-color: var(--fill-color);\n",
              "    }\n",
              "    80% {\n",
              "      border-color: transparent;\n",
              "      border-right-color: var(--fill-color);\n",
              "      border-bottom-color: var(--fill-color);\n",
              "    }\n",
              "    90% {\n",
              "      border-color: transparent;\n",
              "      border-bottom-color: var(--fill-color);\n",
              "    }\n",
              "  }\n",
              "</style>\n",
              "\n",
              "      <script>\n",
              "        async function quickchart(key) {\n",
              "          const quickchartButtonEl =\n",
              "            document.querySelector('#' + key + ' button');\n",
              "          quickchartButtonEl.disabled = true;  // To prevent multiple clicks.\n",
              "          quickchartButtonEl.classList.add('colab-df-spinner');\n",
              "          try {\n",
              "            const charts = await google.colab.kernel.invokeFunction(\n",
              "                'suggestCharts', [key], {});\n",
              "          } catch (error) {\n",
              "            console.error('Error during call to suggestCharts:', error);\n",
              "          }\n",
              "          quickchartButtonEl.classList.remove('colab-df-spinner');\n",
              "          quickchartButtonEl.classList.add('colab-df-quickchart-complete');\n",
              "        }\n",
              "        (() => {\n",
              "          let quickchartButtonEl =\n",
              "            document.querySelector('#df-8e14f923-8e70-4f32-a833-e5710e8b584d button');\n",
              "          quickchartButtonEl.style.display =\n",
              "            google.colab.kernel.accessAllowed ? 'block' : 'none';\n",
              "        })();\n",
              "      </script>\n",
              "    </div>\n",
              "\n",
              "    </div>\n",
              "  </div>\n"
            ],
            "application/vnd.google.colaboratory.intrinsic+json": {
              "type": "dataframe",
              "variable_name": "df_balanced",
              "summary": "{\n  \"name\": \"df_balanced\",\n  \"rows\": 5524,\n  \"fields\": [\n    {\n      \"column\": \"text\",\n      \"properties\": {\n        \"dtype\": \"string\",\n        \"num_unique_values\": 5523,\n        \"samples\": [\n          \"The 'LeBron James' Kid Is Back We missed you.\",\n          \"Here's How Rats End Up In Toilet Bowls Fun fact: Rats can hold their breath for up to three minutes.\",\n          \"Washington Wizards' Dynamic Backcourt Duo Of John Wall And Bradley Beal Is Making Waves \"\n        ],\n        \"semantic_type\": \"\",\n        \"description\": \"\"\n      }\n    },\n    {\n      \"column\": \"category\",\n      \"properties\": {\n        \"dtype\": \"category\",\n        \"num_unique_values\": 4,\n        \"samples\": [\n          \"SPORTS\",\n          \"SCIENCE\",\n          \"BUSINESS\"\n        ],\n        \"semantic_type\": \"\",\n        \"description\": \"\"\n      }\n    },\n    {\n      \"column\": \"category_num\",\n      \"properties\": {\n        \"dtype\": \"number\",\n        \"std\": 1,\n        \"min\": 0,\n        \"max\": 3,\n        \"num_unique_values\": 4,\n        \"samples\": [\n          1,\n          3,\n          0\n        ],\n        \"semantic_type\": \"\",\n        \"description\": \"\"\n      }\n    },\n    {\n      \"column\": \"preprocessed_txt\",\n      \"properties\": {\n        \"dtype\": \"string\",\n        \"num_unique_values\": 5523,\n        \"samples\": [\n          \"LeBron James Kid miss\",\n          \"rat end Toilet Bowls Fun fact rat hold breath minute\",\n          \"Washington Wizards Dynamic Backcourt duo John Wall Bradley Beal make wave\"\n        ],\n        \"semantic_type\": \"\",\n        \"description\": \"\"\n      }\n    }\n  ]\n}"
            }
          },
          "metadata": {},
          "execution_count": 28
        }
      ]
    },
    {
      "cell_type": "markdown",
      "source": [
        "Build a model with pre processed text"
      ],
      "metadata": {
        "id": "PquWRB6g4BGu"
      }
    },
    {
      "cell_type": "code",
      "source": [
        "X_train, X_test, y_train, y_test = train_test_split(\n",
        "    df_balanced.preprocessed_txt,\n",
        "    df_balanced.category_num,\n",
        "    test_size=0.2,\n",
        "    random_state=2022,\n",
        "    stratify=df_balanced.category_num\n",
        ")"
      ],
      "metadata": {
        "id": "I1QKh_IC4AC_"
      },
      "execution_count": 29,
      "outputs": []
    },
    {
      "cell_type": "code",
      "source": [
        "print(X_train.shape)\n",
        "X_train.head()"
      ],
      "metadata": {
        "colab": {
          "base_uri": "https://localhost:8080/",
          "height": 258
        },
        "id": "stCB-zzh4DvQ",
        "outputId": "93e2597e-788c-4ee9-8719-150d531d89ef"
      },
      "execution_count": 30,
      "outputs": [
        {
          "output_type": "stream",
          "name": "stdout",
          "text": [
            "(4419,)\n"
          ]
        },
        {
          "output_type": "execute_result",
          "data": {
            "text/plain": [
              "7589     ovulate Women prefer Images Penetration Images...\n",
              "10442     scientist discover Spooky Influence Baby Choices\n",
              "8792     Olympic Race Walker step Propose boyfriend Rio...\n",
              "1733     Beloved Bipedal Bear name Pedals believe kill ...\n",
              "2526       Elizabeth Smart give Birth Baby Girl Father say\n",
              "Name: preprocessed_txt, dtype: object"
            ],
            "text/html": [
              "<div>\n",
              "<style scoped>\n",
              "    .dataframe tbody tr th:only-of-type {\n",
              "        vertical-align: middle;\n",
              "    }\n",
              "\n",
              "    .dataframe tbody tr th {\n",
              "        vertical-align: top;\n",
              "    }\n",
              "\n",
              "    .dataframe thead th {\n",
              "        text-align: right;\n",
              "    }\n",
              "</style>\n",
              "<table border=\"1\" class=\"dataframe\">\n",
              "  <thead>\n",
              "    <tr style=\"text-align: right;\">\n",
              "      <th></th>\n",
              "      <th>preprocessed_txt</th>\n",
              "    </tr>\n",
              "  </thead>\n",
              "  <tbody>\n",
              "    <tr>\n",
              "      <th>7589</th>\n",
              "      <td>ovulate Women prefer Images Penetration Images...</td>\n",
              "    </tr>\n",
              "    <tr>\n",
              "      <th>10442</th>\n",
              "      <td>scientist discover Spooky Influence Baby Choices</td>\n",
              "    </tr>\n",
              "    <tr>\n",
              "      <th>8792</th>\n",
              "      <td>Olympic Race Walker step Propose boyfriend Rio...</td>\n",
              "    </tr>\n",
              "    <tr>\n",
              "      <th>1733</th>\n",
              "      <td>Beloved Bipedal Bear name Pedals believe kill ...</td>\n",
              "    </tr>\n",
              "    <tr>\n",
              "      <th>2526</th>\n",
              "      <td>Elizabeth Smart give Birth Baby Girl Father say</td>\n",
              "    </tr>\n",
              "  </tbody>\n",
              "</table>\n",
              "</div><br><label><b>dtype:</b> object</label>"
            ]
          },
          "metadata": {},
          "execution_count": 30
        }
      ]
    },
    {
      "cell_type": "code",
      "source": [
        "y_train.value_counts()"
      ],
      "metadata": {
        "colab": {
          "base_uri": "https://localhost:8080/",
          "height": 241
        },
        "id": "tCjzi8aG4HF3",
        "outputId": "d0b1c061-9f07-4907-fe29-a834d9962051"
      },
      "execution_count": 32,
      "outputs": [
        {
          "output_type": "execute_result",
          "data": {
            "text/plain": [
              "category_num\n",
              "3    1105\n",
              "2    1105\n",
              "0    1105\n",
              "1    1104\n",
              "Name: count, dtype: int64"
            ],
            "text/html": [
              "<div>\n",
              "<style scoped>\n",
              "    .dataframe tbody tr th:only-of-type {\n",
              "        vertical-align: middle;\n",
              "    }\n",
              "\n",
              "    .dataframe tbody tr th {\n",
              "        vertical-align: top;\n",
              "    }\n",
              "\n",
              "    .dataframe thead th {\n",
              "        text-align: right;\n",
              "    }\n",
              "</style>\n",
              "<table border=\"1\" class=\"dataframe\">\n",
              "  <thead>\n",
              "    <tr style=\"text-align: right;\">\n",
              "      <th></th>\n",
              "      <th>count</th>\n",
              "    </tr>\n",
              "    <tr>\n",
              "      <th>category_num</th>\n",
              "      <th></th>\n",
              "    </tr>\n",
              "  </thead>\n",
              "  <tbody>\n",
              "    <tr>\n",
              "      <th>3</th>\n",
              "      <td>1105</td>\n",
              "    </tr>\n",
              "    <tr>\n",
              "      <th>2</th>\n",
              "      <td>1105</td>\n",
              "    </tr>\n",
              "    <tr>\n",
              "      <th>0</th>\n",
              "      <td>1105</td>\n",
              "    </tr>\n",
              "    <tr>\n",
              "      <th>1</th>\n",
              "      <td>1104</td>\n",
              "    </tr>\n",
              "  </tbody>\n",
              "</table>\n",
              "</div><br><label><b>dtype:</b> int64</label>"
            ]
          },
          "metadata": {},
          "execution_count": 32
        }
      ]
    },
    {
      "cell_type": "code",
      "source": [
        "y_test.value_counts()"
      ],
      "metadata": {
        "colab": {
          "base_uri": "https://localhost:8080/",
          "height": 241
        },
        "id": "FspcVHiT4JUY",
        "outputId": "5db33279-d763-4923-9109-ab61f39bcb17"
      },
      "execution_count": 33,
      "outputs": [
        {
          "output_type": "execute_result",
          "data": {
            "text/plain": [
              "category_num\n",
              "1    277\n",
              "0    276\n",
              "3    276\n",
              "2    276\n",
              "Name: count, dtype: int64"
            ],
            "text/html": [
              "<div>\n",
              "<style scoped>\n",
              "    .dataframe tbody tr th:only-of-type {\n",
              "        vertical-align: middle;\n",
              "    }\n",
              "\n",
              "    .dataframe tbody tr th {\n",
              "        vertical-align: top;\n",
              "    }\n",
              "\n",
              "    .dataframe thead th {\n",
              "        text-align: right;\n",
              "    }\n",
              "</style>\n",
              "<table border=\"1\" class=\"dataframe\">\n",
              "  <thead>\n",
              "    <tr style=\"text-align: right;\">\n",
              "      <th></th>\n",
              "      <th>count</th>\n",
              "    </tr>\n",
              "    <tr>\n",
              "      <th>category_num</th>\n",
              "      <th></th>\n",
              "    </tr>\n",
              "  </thead>\n",
              "  <tbody>\n",
              "    <tr>\n",
              "      <th>1</th>\n",
              "      <td>277</td>\n",
              "    </tr>\n",
              "    <tr>\n",
              "      <th>0</th>\n",
              "      <td>276</td>\n",
              "    </tr>\n",
              "    <tr>\n",
              "      <th>3</th>\n",
              "      <td>276</td>\n",
              "    </tr>\n",
              "    <tr>\n",
              "      <th>2</th>\n",
              "      <td>276</td>\n",
              "    </tr>\n",
              "  </tbody>\n",
              "</table>\n",
              "</div><br><label><b>dtype:</b> int64</label>"
            ]
          },
          "metadata": {},
          "execution_count": 33
        }
      ]
    },
    {
      "cell_type": "markdown",
      "source": [
        "Bi-gram"
      ],
      "metadata": {
        "id": "TzaxLUYI4Tnv"
      }
    },
    {
      "cell_type": "code",
      "source": [
        "clf = Pipeline([\n",
        "    ('vectorizer_1_2_gram', CountVectorizer(ngram_range = (1,2))),\n",
        "    ('Multi NB', MultinomialNB())\n",
        "])\n",
        "\n",
        "clf.fit(X_train, y_train)\n",
        "\n",
        "y_pred = clf.predict(X_test)\n",
        "\n",
        "print(classification_report(y_test,y_pred))"
      ],
      "metadata": {
        "outputId": "f2ec6722-8b7a-4074-ebae-05dc780001bf",
        "colab": {
          "base_uri": "https://localhost:8080/"
        },
        "id": "lzAhw80A4NFq"
      },
      "execution_count": 34,
      "outputs": [
        {
          "output_type": "stream",
          "name": "stdout",
          "text": [
            "              precision    recall  f1-score   support\n",
            "\n",
            "           0       0.79      0.88      0.83       276\n",
            "           1       0.94      0.82      0.87       277\n",
            "           2       0.82      0.91      0.86       276\n",
            "           3       0.91      0.82      0.86       276\n",
            "\n",
            "    accuracy                           0.86      1105\n",
            "   macro avg       0.86      0.86      0.86      1105\n",
            "weighted avg       0.86      0.86      0.86      1105\n",
            "\n"
          ]
        }
      ]
    },
    {
      "cell_type": "markdown",
      "source": [
        "Tri-gram"
      ],
      "metadata": {
        "id": "NPKj3XAs4dko"
      }
    },
    {
      "cell_type": "code",
      "source": [
        "clf = Pipeline([\n",
        "    ('vectorizer_1_3_gram', CountVectorizer(ngram_range = (1,3))),\n",
        "    ('Multi NB', MultinomialNB())\n",
        "])\n",
        "\n",
        "clf.fit(X_train, y_train)\n",
        "\n",
        "y_pred = clf.predict(X_test)\n",
        "\n",
        "print(classification_report(y_test,y_pred))"
      ],
      "metadata": {
        "colab": {
          "base_uri": "https://localhost:8080/"
        },
        "id": "28psSBZk4edG",
        "outputId": "4de99c67-b6ff-40fd-9043-c7a090bc5302"
      },
      "execution_count": 35,
      "outputs": [
        {
          "output_type": "stream",
          "name": "stdout",
          "text": [
            "              precision    recall  f1-score   support\n",
            "\n",
            "           0       0.78      0.88      0.83       276\n",
            "           1       0.94      0.82      0.87       277\n",
            "           2       0.82      0.92      0.87       276\n",
            "           3       0.91      0.81      0.86       276\n",
            "\n",
            "    accuracy                           0.86      1105\n",
            "   macro avg       0.86      0.86      0.86      1105\n",
            "weighted avg       0.86      0.86      0.86      1105\n",
            "\n"
          ]
        }
      ]
    },
    {
      "cell_type": "markdown",
      "source": [
        "Plot confusion matrix"
      ],
      "metadata": {
        "id": "-couyba44jCP"
      }
    },
    {
      "cell_type": "code",
      "source": [
        "from sklearn.metrics import confusion_matrix\n",
        "cm = confusion_matrix(y_test, y_pred)\n",
        "cm"
      ],
      "metadata": {
        "colab": {
          "base_uri": "https://localhost:8080/"
        },
        "id": "CkNh_HgU4lw2",
        "outputId": "6acf84e9-8541-43a0-bb8c-3d1ad80e4c43"
      },
      "execution_count": 36,
      "outputs": [
        {
          "output_type": "execute_result",
          "data": {
            "text/plain": [
              "array([[243,   7,  16,  10],\n",
              "       [ 12, 227,  32,   6],\n",
              "       [ 16,   2, 253,   5],\n",
              "       [ 39,   6,   7, 224]])"
            ]
          },
          "metadata": {},
          "execution_count": 36
        }
      ]
    },
    {
      "cell_type": "code",
      "source": [
        "from matplotlib import pyplot as plt\n",
        "import seaborn as sn\n",
        "plt.figure(figsize = (10,7))\n",
        "sn.heatmap(cm, annot=True, fmt='d')\n",
        "plt.xlabel('Prediction')\n",
        "plt.ylabel('Truth')"
      ],
      "metadata": {
        "colab": {
          "base_uri": "https://localhost:8080/",
          "height": 636
        },
        "id": "pIT_lawJ4qye",
        "outputId": "c3c3b29a-1924-4237-c0f9-3e7298eec040"
      },
      "execution_count": 37,
      "outputs": [
        {
          "output_type": "execute_result",
          "data": {
            "text/plain": [
              "Text(95.72222222222221, 0.5, 'Truth')"
            ]
          },
          "metadata": {},
          "execution_count": 37
        },
        {
          "output_type": "display_data",
          "data": {
            "text/plain": [
              "<Figure size 1000x700 with 2 Axes>"
            ],
            "image/png": "[encoded data removed]"
          },
          "metadata": {}
        }
      ]
    }
  ]
}