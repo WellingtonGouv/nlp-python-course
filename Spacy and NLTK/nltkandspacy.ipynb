{
  "nbformat": 4,
  "nbformat_minor": 0,
  "metadata": {
    "colab": {
      "provenance": []
    },
    "kernelspec": {
      "name": "python3",
      "display_name": "Python 3"
    },
    "language_info": {
      "name": "python"
    }
  },
  "cells": [
    {
      "cell_type": "markdown",
      "source": [
        "Spacy is Object Oriented \\\n",
        "Provides most efficient NLP algorithm for a given task. Hence if you care about the end result, go with Spacy. \\\n",
        "Spacy is user friendly. \\\n",
        "Perfect for app developers. \\\n",
        "Spacy is a new library and has a very active user community."
      ],
      "metadata": {
        "id": "9D8TeWaG-Rw8"
      }
    },
    {
      "cell_type": "code",
      "execution_count": null,
      "metadata": {
        "id": "dpI7RgHw8MVx"
      },
      "outputs": [],
      "source": [
        "import spacy"
      ]
    },
    {
      "cell_type": "markdown",
      "source": [
        "Sentence tokenization"
      ],
      "metadata": {
        "id": "NpZXBwy594C1"
      }
    },
    {
      "cell_type": "code",
      "source": [
        "nlp = spacy.load(\"en_core_web_sm\")\n",
        "\n",
        "doc = nlp(\"Early in the convention, Hamilton made a speech proposing a president-for-life. The hereditary interest of the king was so interwoven with that of the nation.\")\n",
        "\n",
        "for sentence in doc.sents:\n",
        "  print(sentence)"
      ],
      "metadata": {
        "colab": {
          "base_uri": "https://localhost:8080/"
        },
        "id": "gqdwAbaH82PI",
        "outputId": "8f0fff0e-2160-411a-9873-4262d63cd6f6"
      },
      "execution_count": null,
      "outputs": [
        {
          "output_type": "stream",
          "name": "stdout",
          "text": [
            "Early in the convention, Hamilton made a speech proposing a president-for-life.\n",
            "The hereditary interest of the king was so interwoven with that of the nation.\n"
          ]
        }
      ]
    },
    {
      "cell_type": "markdown",
      "source": [
        "Word tokenization"
      ],
      "metadata": {
        "id": "gX3ONBqr-BvB"
      }
    },
    {
      "cell_type": "code",
      "source": [
        "for sentence in doc.sents:\n",
        "  for word in sentence:\n",
        "    print(word)"
      ],
      "metadata": {
        "colab": {
          "base_uri": "https://localhost:8080/"
        },
        "id": "jAb0rAE596kB",
        "outputId": "05d8b1ef-d4aa-46ae-e0da-8ac4a335c30f"
      },
      "execution_count": null,
      "outputs": [
        {
          "output_type": "stream",
          "name": "stdout",
          "text": [
            "Early\n",
            "in\n",
            "the\n",
            "convention\n",
            ",\n",
            "Hamilton\n",
            "made\n",
            "a\n",
            "speech\n",
            "proposing\n",
            "a\n",
            "president\n",
            "-\n",
            "for\n",
            "-\n",
            "life\n",
            ".\n",
            "The\n",
            "hereditary\n",
            "interest\n",
            "of\n",
            "the\n",
            "king\n",
            "was\n",
            "so\n",
            "interwoven\n",
            "with\n",
            "that\n",
            "of\n",
            "the\n",
            "nation\n",
            ".\n"
          ]
        }
      ]
    },
    {
      "cell_type": "markdown",
      "source": [
        "NLTK is mainly a string processing library \\\n",
        "Provides access to many algorithms. If you care about specific algo and customizations go with NLTK. \\\n",
        "NLTK is also user friendly but probably less user friendly compared to Spacy. \\\n",
        "Perfect for researchers. \\\n",
        "NLTK is old library. User community not as active as Spacy.\n"
      ],
      "metadata": {
        "id": "hZcvXNq6-VFo"
      }
    },
    {
      "cell_type": "code",
      "source": [
        "import nltk\n",
        "\n",
        "nltk.download('punkt_tab')"
      ],
      "metadata": {
        "colab": {
          "base_uri": "https://localhost:8080/"
        },
        "id": "9AYk8fIu-Fsz",
        "outputId": "cc4654cf-7b06-45df-a85c-1b410cda56a7"
      },
      "execution_count": null,
      "outputs": [
        {
          "output_type": "stream",
          "name": "stderr",
          "text": [
            "[nltk_data] Downloading package punkt_tab to /root/nltk_data...\n",
            "[nltk_data]   Unzipping tokenizers/punkt_tab.zip.\n"
          ]
        },
        {
          "output_type": "execute_result",
          "data": {
            "text/plain": [
              "True"
            ]
          },
          "metadata": {},
          "execution_count": 18
        }
      ]
    },
    {
      "cell_type": "markdown",
      "source": [
        "Sentence tokenization"
      ],
      "metadata": {
        "id": "jsA4EKswAMII"
      }
    },
    {
      "cell_type": "code",
      "source": [
        "from nltk.tokenize import sent_tokenize\n",
        "\n",
        "sent_tokenize(\"Early in the convention, Hamilton made a speech proposing a president-for-life. The hereditary interest of the king was so interwoven with that of the nation.\")"
      ],
      "metadata": {
        "colab": {
          "base_uri": "https://localhost:8080/"
        },
        "id": "lSJrcBo1-HhN",
        "outputId": "c3d6dc78-3b30-4bb7-820d-d4b6bc1676f3"
      },
      "execution_count": null,
      "outputs": [
        {
          "output_type": "execute_result",
          "data": {
            "text/plain": [
              "['Early in the convention, Hamilton made a speech proposing a president-for-life.',\n",
              " 'The hereditary interest of the king was so interwoven with that of the nation.']"
            ]
          },
          "metadata": {},
          "execution_count": 21
        }
      ]
    },
    {
      "cell_type": "markdown",
      "source": [
        "Word tokenization"
      ],
      "metadata": {
        "id": "8WJW0LKrANnR"
      }
    },
    {
      "cell_type": "code",
      "source": [
        "from nltk.tokenize import word_tokenize\n",
        "\n",
        "word_tokenize(\"Early in the convention, Hamilton made a speech proposing a president-for-life. The hereditary interest of the king was so interwoven with that of the nation.\")"
      ],
      "metadata": {
        "colab": {
          "base_uri": "https://localhost:8080/"
        },
        "id": "AWtHbiIO_Ad7",
        "outputId": "0e0da3fe-22ed-41c5-bdcf-8593373df9fc"
      },
      "execution_count": null,
      "outputs": [
        {
          "output_type": "execute_result",
          "data": {
            "text/plain": [
              "['Early',\n",
              " 'in',\n",
              " 'the',\n",
              " 'convention',\n",
              " ',',\n",
              " 'Hamilton',\n",
              " 'made',\n",
              " 'a',\n",
              " 'speech',\n",
              " 'proposing',\n",
              " 'a',\n",
              " 'president-for-life',\n",
              " '.',\n",
              " 'The',\n",
              " 'hereditary',\n",
              " 'interest',\n",
              " 'of',\n",
              " 'the',\n",
              " 'king',\n",
              " 'was',\n",
              " 'so',\n",
              " 'interwoven',\n",
              " 'with',\n",
              " 'that',\n",
              " 'of',\n",
              " 'the',\n",
              " 'nation',\n",
              " '.']"
            ]
          },
          "metadata": {},
          "execution_count": 22
        }
      ]
    }
  ]
}