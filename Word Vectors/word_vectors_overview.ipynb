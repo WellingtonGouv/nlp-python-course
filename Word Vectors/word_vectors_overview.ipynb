{
  "nbformat": 4,
  "nbformat_minor": 0,
  "metadata": {
    "colab": {
      "provenance": []
    },
    "kernelspec": {
      "name": "python3",
      "display_name": "Python 3"
    },
    "language_info": {
      "name": "python"
    }
  },
  "cells": [
    {
      "cell_type": "code",
      "source": [
        "!python -m spacy download en_core_web_lg"
      ],
      "metadata": {
        "colab": {
          "base_uri": "https://localhost:8080/"
        },
        "id": "8C_u4ZE8-rze",
        "outputId": "400db113-5c1d-4345-db6e-0ba8e751d021"
      },
      "execution_count": 4,
      "outputs": [
        {
          "output_type": "stream",
          "name": "stdout",
          "text": [
            "Collecting en-core-web-lg==3.8.0\n",
            "  Downloading https://github.com/explosion/spacy-models/releases/download/en_core_web_lg-3.8.0/en_core_web_lg-3.8.0-py3-none-any.whl (400.7 MB)\n",
            "\u001b[2K     \u001b[90m━━━━━━━━━━━━━━━━━━━━━━━━━━━━━━━━━━━━━━━\u001b[0m \u001b[32m400.7/400.7 MB\u001b[0m \u001b[31m4.0 MB/s\u001b[0m eta \u001b[36m0:00:00\u001b[0m\n",
            "\u001b[?25hInstalling collected packages: en-core-web-lg\n",
            "Successfully installed en-core-web-lg-3.8.0\n",
            "\u001b[38;5;2m✔ Download and installation successful\u001b[0m\n",
            "You can now load the package via spacy.load('en_core_web_lg')\n",
            "\u001b[38;5;3m⚠ Restart to reload dependencies\u001b[0m\n",
            "If you are in a Jupyter or Colab notebook, you may need to restart Python in\n",
            "order to load all the package's dependencies. You can do this by selecting the\n",
            "'Restart kernel' or 'Restart runtime' option.\n"
          ]
        }
      ]
    },
    {
      "cell_type": "code",
      "execution_count": 5,
      "metadata": {
        "id": "aKLR8J1n-JA1"
      },
      "outputs": [],
      "source": [
        "import spacy\n",
        "\n",
        "nlp = spacy.load(\"en_core_web_lg\")"
      ]
    },
    {
      "cell_type": "code",
      "source": [
        "doc = nlp(\"dog cat banana kem fdgdfgd\")\n",
        "\n",
        "for token in doc:\n",
        "    print(token.text, \"Vector:\", token.has_vector, \"OOV:\", token.is_oov)"
      ],
      "metadata": {
        "colab": {
          "base_uri": "https://localhost:8080/"
        },
        "id": "jQ1bPgnJA2Rf",
        "outputId": "7a01941a-a2d0-4ae4-b206-4c306745281d"
      },
      "execution_count": 7,
      "outputs": [
        {
          "output_type": "stream",
          "name": "stdout",
          "text": [
            "dog Vector: True OOV: False\n",
            "cat Vector: True OOV: False\n",
            "banana Vector: True OOV: False\n",
            "kem Vector: True OOV: False\n",
            "fdgdfgd Vector: False OOV: True\n"
          ]
        }
      ]
    },
    {
      "cell_type": "code",
      "source": [
        "doc[0].vector.shape"
      ],
      "metadata": {
        "colab": {
          "base_uri": "https://localhost:8080/"
        },
        "id": "bdiVQT8zA7j9",
        "outputId": "17378727-b9e6-4395-bcd1-a9964ec8c8fc"
      },
      "execution_count": 8,
      "outputs": [
        {
          "output_type": "execute_result",
          "data": {
            "text/plain": [
              "(300,)"
            ]
          },
          "metadata": {},
          "execution_count": 8
        }
      ]
    },
    {
      "cell_type": "code",
      "source": [
        "base_token = nlp(\"bread\")\n",
        "base_token.vector.shape"
      ],
      "metadata": {
        "colab": {
          "base_uri": "https://localhost:8080/"
        },
        "id": "NxU_DCKaA9nm",
        "outputId": "dbf69d9c-af43-4057-87a3-42a463b93f19"
      },
      "execution_count": 9,
      "outputs": [
        {
          "output_type": "execute_result",
          "data": {
            "text/plain": [
              "(300,)"
            ]
          },
          "metadata": {},
          "execution_count": 9
        }
      ]
    },
    {
      "cell_type": "code",
      "source": [
        "doc = nlp(\"bread sandwich burger car tiger human wheat\")\n",
        "\n",
        "for token in doc:\n",
        "    print(f\"{token.text} <-> {base_token.text}:\", token.similarity(base_token))"
      ],
      "metadata": {
        "colab": {
          "base_uri": "https://localhost:8080/"
        },
        "id": "DyL_U7qWBADV",
        "outputId": "ae17facc-334d-4216-fc98-903f58a05f2d"
      },
      "execution_count": 10,
      "outputs": [
        {
          "output_type": "stream",
          "name": "stdout",
          "text": [
            "bread <-> bread: 1.0\n",
            "sandwich <-> bread: 0.6874560117721558\n",
            "burger <-> bread: 0.544037401676178\n",
            "car <-> bread: 0.16441147029399872\n",
            "tiger <-> bread: 0.14492356777191162\n",
            "human <-> bread: 0.21103660762310028\n",
            "wheat <-> bread: 0.6572456359863281\n"
          ]
        }
      ]
    },
    {
      "cell_type": "code",
      "source": [
        "def print_similarity(base_word, words_to_compare):\n",
        "    base_token = nlp(base_word)\n",
        "    doc = nlp(words_to_compare)\n",
        "    for token in doc:\n",
        "        print(f\"{token.text} <-> {base_token.text}: \", token.similarity(base_token))"
      ],
      "metadata": {
        "id": "6G09qx5uBJVg"
      },
      "execution_count": 11,
      "outputs": []
    },
    {
      "cell_type": "code",
      "source": [
        "print_similarity(\"iphone\", \"apple samsung iphone dog kitten\")"
      ],
      "metadata": {
        "colab": {
          "base_uri": "https://localhost:8080/"
        },
        "id": "_gRH1wv0BM4l",
        "outputId": "df22af70-18f2-40aa-dc81-9802cda462d3"
      },
      "execution_count": 12,
      "outputs": [
        {
          "output_type": "stream",
          "name": "stdout",
          "text": [
            "apple <-> iphone:  0.6339781284332275\n",
            "samsung <-> iphone:  0.6678677797317505\n",
            "iphone <-> iphone:  1.0\n",
            "dog <-> iphone:  0.1743103712797165\n",
            "kitten <-> iphone:  0.1468581259250641\n"
          ]
        }
      ]
    },
    {
      "cell_type": "code",
      "source": [
        "king = nlp.vocab[\"king\"].vector\n",
        "man = nlp.vocab[\"man\"].vector\n",
        "woman = nlp.vocab[\"woman\"].vector\n",
        "queen = nlp.vocab[\"queen\"].vector\n",
        "\n",
        "result = king - man + woman"
      ],
      "metadata": {
        "id": "WtEPd1cpBPiG"
      },
      "execution_count": 13,
      "outputs": []
    },
    {
      "cell_type": "code",
      "source": [
        "from sklearn.metrics.pairwise import cosine_similarity\n",
        "\n",
        "cosine_similarity([result], [queen])"
      ],
      "metadata": {
        "colab": {
          "base_uri": "https://localhost:8080/"
        },
        "id": "CA2V9UGVBR4d",
        "outputId": "5c702f9b-2ac7-4578-8055-26d3ea6007c9"
      },
      "execution_count": 14,
      "outputs": [
        {
          "output_type": "execute_result",
          "data": {
            "text/plain": [
              "array([[0.78808445]], dtype=float32)"
            ]
          },
          "metadata": {},
          "execution_count": 14
        }
      ]
    }
  ]
}