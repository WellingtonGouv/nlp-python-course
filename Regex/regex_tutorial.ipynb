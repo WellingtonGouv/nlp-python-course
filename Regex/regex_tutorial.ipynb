{
  "nbformat": 4,
  "nbformat_minor": 0,
  "metadata": {
    "colab": {
      "provenance": []
    },
    "kernelspec": {
      "name": "python3",
      "display_name": "Python 3"
    },
    "language_info": {
      "name": "python"
    }
  },
  "cells": [
    {
      "cell_type": "markdown",
      "source": [
        "# Regex Tutorial\n",
        "* Learning some patterns and ways to extract information"
      ],
      "metadata": {
        "id": "jAKUTwMWF90O"
      }
    },
    {
      "cell_type": "code",
      "execution_count": null,
      "metadata": {
        "id": "a9XGwRhllnxX"
      },
      "outputs": [],
      "source": [
        "import re"
      ]
    },
    {
      "cell_type": "markdown",
      "source": [
        "### Extracting phone numbers"
      ],
      "metadata": {
        "id": "PNLuyVi5GHNm"
      }
    },
    {
      "cell_type": "code",
      "source": [
        "text = '''My name is Wellington! My phone number is (17)99999-9999, 17999999999, call me if you need any questions on NLP'''\n",
        "\n",
        "pattern = r'\\(\\d{2}\\)\\d{5}-\\d{4}|\\d{11}'\n",
        "\n",
        "matches = re.findall(pattern, text)\n",
        "matches"
      ],
      "metadata": {
        "colab": {
          "base_uri": "https://localhost:8080/"
        },
        "id": "Jsrtm9ZDnWsh",
        "outputId": "a7b7c76e-3cf0-4b35-e9d4-4e24cc6d0d8f"
      },
      "execution_count": null,
      "outputs": [
        {
          "output_type": "execute_result",
          "data": {
            "text/plain": [
              "['(17)99999-9999', '17999999999']"
            ]
          },
          "metadata": {},
          "execution_count": 6
        }
      ]
    },
    {
      "cell_type": "markdown",
      "source": [
        "### Extracting titles"
      ],
      "metadata": {
        "id": "y6cwKYs3GKg5"
      }
    },
    {
      "cell_type": "code",
      "source": [
        "text = '''Note 1 - First paragraph\n",
        "A expectativa era de uma estreia duríssima para João Fonseca diante de Perricard, último campeão do torneio. E o primeiro set traduziu na prática o que se esperava neste duelo entre dois jovens, de 19 e 22 anos, respectivamente, na quadra do evento suíço.\n",
        "\n",
        "Note 2 - Second paragraph\n",
        "Dono de um saque potente e veloz, Perricard teve um aproveitamento de 78% de bolas em jogo no primeiro serviço. João Fonseca também encaixou o saque, o que tornou o embate equilibrado, sem quebras. No tie-break, o brasileiro anotou 6 a 3, permitiu o empate e, no quarto set point, fechou com um ace cravando 7/6 (6).\n",
        "\n",
        "Note 3 - Third paragraph\n",
        "No segundo set, João Fonseca deslanchou. Ele abriu 1 a 0 e, em seguida, quebrou o saque do adversário pela primeira vez no duelo. Diferentemente do set anterior, marcado pelo equilíbrio, nesta parcial, o carioca foi superior e faturou a vitória ao sacar para o jogo.'''\n",
        "\n",
        "pattern = r'Note \\d - ([^\\n]+)'\n",
        "\n",
        "re.findall(pattern, text)"
      ],
      "metadata": {
        "colab": {
          "base_uri": "https://localhost:8080/"
        },
        "id": "CDPi_v_AoZTC",
        "outputId": "1381f7c2-8b8c-4de3-ab91-6d87ad97ddd5"
      },
      "execution_count": null,
      "outputs": [
        {
          "output_type": "execute_result",
          "data": {
            "text/plain": [
              "['First paragraph', 'Second paragraph', 'Third paragraph']"
            ]
          },
          "metadata": {},
          "execution_count": 16
        }
      ]
    },
    {
      "cell_type": "markdown",
      "source": [
        "### Extracting specif informations"
      ],
      "metadata": {
        "id": "2rKTrKM7GSsZ"
      }
    },
    {
      "cell_type": "code",
      "source": [
        "text = '''The gross cost of operating lease vehicles in FY2021 Q1 was $4.85 billion.\n",
        "In previous quarter i.e fy2020 Q4 it was $3 billion.\n",
        "FY2020 Q5'''\n",
        "\n",
        "pattern = r'FY(\\d{4} Q[1-4])'\n",
        "\n",
        "matches = re.findall(pattern, text, flags=re.IGNORECASE)\n",
        "matches"
      ],
      "metadata": {
        "colab": {
          "base_uri": "https://localhost:8080/"
        },
        "id": "6vgSY_Feruji",
        "outputId": "03cd8dac-abaa-4408-c79f-0cf4c2fd0546"
      },
      "execution_count": null,
      "outputs": [
        {
          "output_type": "execute_result",
          "data": {
            "text/plain": [
              "['2021 Q1', '2020 Q4']"
            ]
          },
          "metadata": {},
          "execution_count": 22
        }
      ]
    },
    {
      "cell_type": "markdown",
      "source": [
        "### Extracting numbers"
      ],
      "metadata": {
        "id": "Ylaw5NLYGVi0"
      }
    },
    {
      "cell_type": "code",
      "source": [
        "text = '''The gross cost of operating lease vehicles in FY2021 Q1 was $4.85 billion.\n",
        "In previous quarter i.e fy2020 Q4 it was $3 billion.\n",
        "FY2020 Q5'''\n",
        "\n",
        "pattern = r'\\$([0-9\\.]+)'\n",
        "\n",
        "matches = re.findall(pattern, text, flags=re.IGNORECASE)\n",
        "matches"
      ],
      "metadata": {
        "colab": {
          "base_uri": "https://localhost:8080/"
        },
        "id": "UeW9IriYtfSo",
        "outputId": "8e68b2b5-7436-4fb5-b57a-201062170d4a"
      },
      "execution_count": null,
      "outputs": [
        {
          "output_type": "execute_result",
          "data": {
            "text/plain": [
              "['4.85', '3']"
            ]
          },
          "metadata": {},
          "execution_count": 23
        }
      ]
    },
    {
      "cell_type": "code",
      "source": [
        "text = '''The gross cost of operating lease vehicles in FY2021 Q1 was $4.85 billion.\n",
        "In previous quarter i.e fy2020 Q4 it was $3 billion.\n",
        "FY2020 Q5'''\n",
        "\n",
        "pattern = r'FY(\\d{4} Q[1-4])[^\\$]+\\$([0-9\\.]+)'\n",
        "\n",
        "matches = re.search(pattern, text)\n",
        "matches"
      ],
      "metadata": {
        "colab": {
          "base_uri": "https://localhost:8080/"
        },
        "id": "sdAa4zi-tq6I",
        "outputId": "3f10249e-ec03-4d9c-a3aa-45438f8ea82e"
      },
      "execution_count": null,
      "outputs": [
        {
          "output_type": "execute_result",
          "data": {
            "text/plain": [
              "<re.Match object; span=(46, 65), match='FY2021 Q1 was $4.85'>"
            ]
          },
          "metadata": {},
          "execution_count": 25
        }
      ]
    },
    {
      "cell_type": "code",
      "source": [
        "matches.groups()"
      ],
      "metadata": {
        "colab": {
          "base_uri": "https://localhost:8080/"
        },
        "id": "RI2xFkF2uhAi",
        "outputId": "611b718c-1839-4288-eeb0-1fc334f8522a"
      },
      "execution_count": null,
      "outputs": [
        {
          "output_type": "execute_result",
          "data": {
            "text/plain": [
              "('2021 Q1', '4.85')"
            ]
          },
          "metadata": {},
          "execution_count": 26
        }
      ]
    }
  ]
}